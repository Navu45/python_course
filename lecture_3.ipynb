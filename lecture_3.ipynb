{
 "cells": [
  {
   "cell_type": "markdown",
   "metadata": {},
   "source": [
    "# Lecture 3: Functions (Part 2)\n",
    "\n",
    "> Anonymous/Lambda Function\n",
    "\n",
    "> Built-in Functions: map, filter и zip\n",
    "    \n",
    "> List/dict/set comprehensions\n",
    "\n",
    "> Functional Programming: map, filter и zip (built-in functions)\n",
    "\n",
    "> Type Annotations\n",
    "\n",
    "> Exercises"
   ]
  },
  {
   "cell_type": "markdown",
   "metadata": {},
   "source": [
    "### Anonymous/Lambda Function\n",
    "\n",
    "An anonymous function is a function that is defined without a name.\n",
    "\n",
    "Anonymous functions are defined using the 'lambda' keyword.\n",
    "\n",
    "Anonymous functions are also called lambda functions."
   ]
  },
  {
   "cell_type": "code",
   "execution_count": null,
   "metadata": {},
   "outputs": [],
   "source": [
    "# a normal function\n",
    "def double(x):\n",
    "    return x * 2\n",
    "\n",
    "# example of Lambda Function\n",
    "double = lambda x: x * 2\n",
    "\n",
    "double(5)"
   ]
  },
  {
   "cell_type": "markdown",
   "metadata": {},
   "source": [
    "### Functional Programming: map, filter и zip (built-in functions)"
   ]
  },
  {
   "cell_type": "code",
   "execution_count": null,
   "metadata": {},
   "outputs": [],
   "source": [
    "# We will consider three built-in functions\n",
    "__builtin__.__dict__['map'], __builtin__.__dict__['filter'], __builtin__.__dict__['zip']"
   ]
  },
  {
   "cell_type": "code",
   "execution_count": null,
   "metadata": {},
   "outputs": [],
   "source": [
    "# all built-in functions\n",
    "__builtin__.__dict__"
   ]
  },
  {
   "cell_type": "markdown",
   "metadata": {},
   "source": [
    "#### map()"
   ]
  },
  {
   "cell_type": "code",
   "execution_count": null,
   "metadata": {},
   "outputs": [],
   "source": [
    "\"\"\"The map() function applies a given function to each item of an iterable (list, tuple etc.) and returns an iterator.\n",
    "\n",
    "Syntax: map(function, iterable, ...)\n",
    "        function - a function that perform some action to each element of an iterable;\n",
    "        iterable - an iterable like sets, lists, tuples, etc\n",
    "        You can pass more than one iterable to the map() function.\n",
    "        The map() function returns an object of map class.\n",
    "\n",
    "Link: https://www.programiz.com/python-programming/methods/built-in/map\n",
    "\"\"\"\n",
    "# example 1\n",
    "numbers = (1, 2, 3, 4)\n",
    "\n",
    "def calculate_square(n):\n",
    "    return n * n\n",
    "\n",
    "result = map(calculate_square, numbers)\n",
    "print(result)\n",
    "\n",
    "# converting map object to tuple\n",
    "nums_square = tuple(result)\n",
    "print(nums_square)"
   ]
  },
  {
   "cell_type": "code",
   "execution_count": null,
   "metadata": {},
   "outputs": [],
   "source": [
    "# help(map)"
   ]
  },
  {
   "cell_type": "code",
   "execution_count": null,
   "metadata": {},
   "outputs": [],
   "source": [
    "# example 2\n",
    "numbers = (1, 2, 3, 4)\n",
    "\n",
    "result = map(lambda x: x * x, numbers)\n",
    "print(result)\n",
    "\n",
    "# converting map object to tuple\n",
    "nums_square = tuple(result)\n",
    "print(nums_square)"
   ]
  },
  {
   "cell_type": "markdown",
   "metadata": {},
   "source": [
    "#### filter()"
   ]
  },
  {
   "cell_type": "code",
   "execution_count": null,
   "metadata": {},
   "outputs": [],
   "source": [
    "\"\"\"The filter() function extracts elements from an iterable (list, tuple etc.) for which a function returns True.\n",
    "\n",
    "Syntax: filter(function, iterable)\n",
    "        function - a function;\n",
    "        iterable - an iterable like lists, tuples, sets etc.\n",
    "        The filter() function returns an object of filter class.\n",
    "\n",
    "Link: https://www.programiz.com/python-programming/methods/built-in/filter\n",
    "\"\"\"\n",
    "\n",
    "# example 1\n",
    "letters = ['a', 'b', 'd', 'e', 'i', 'j', 'o']\n",
    "\n",
    "# a function that returns True if letter is vowel\n",
    "def filter_vowels(letter):\n",
    "    vowels = ['a', 'e', 'i', 'o', 'u']\n",
    "    return letter in vowels  # return True if letter in vowels else False\n",
    "\n",
    "filtered_vowels = filter(filter_vowels, letters)\n",
    "print(filtered_vowels)\n",
    "\n",
    "# converting to tuple\n",
    "vowels = tuple(filtered_vowels)\n",
    "print(vowels)"
   ]
  },
  {
   "cell_type": "code",
   "execution_count": null,
   "metadata": {},
   "outputs": [],
   "source": [
    "# example 2\n",
    "numbers = range(1, 8)  # numbers = [1, 2, 3, 4, 5, 6, 7]\n",
    "\n",
    "# the lambda function returns True for even numbers \n",
    "even_numbers_iterator = filter(lambda x: x % 2 == 0, numbers)\n",
    "\n",
    "# converting to list\n",
    "even_numbers = list(even_numbers_iterator)\n",
    "\n",
    "print(even_numbers)"
   ]
  },
  {
   "cell_type": "markdown",
   "metadata": {},
   "source": [
    "#### zip()"
   ]
  },
  {
   "cell_type": "code",
   "execution_count": null,
   "metadata": {},
   "outputs": [],
   "source": [
    "\"\"\"The zip() function takes iterables (can be zero or more), aggregates them in a tuple, and returns it.\n",
    "\n",
    "Syntax: zip(*iterables)\n",
    "        iterables can be built-in iterables (like: list, string, dict), or user-defined iterables.\n",
    "        The zip() function returns an object of zip class.\n",
    "        \n",
    "Link: https://www.programiz.com/python-programming/methods/built-in/zip\n",
    "\"\"\"\n",
    "\n",
    "# example 1\n",
    "number_list = [1, 2, 3]\n",
    "str_list = ['one', 'two', 'three']\n",
    "\n",
    "# Two iterables are passed\n",
    "result = zip(number_list, str_list)\n",
    "\n",
    "# Converting iterator to tuple\n",
    "result_tuple = tuple(result)\n",
    "print(result_tuple)\n",
    "\n",
    "print(result)\n",
    "\n",
    "# Converting iterator to set\n",
    "result_set = list(result)\n",
    "print(result_set)\n",
    "\n",
    "# result_set is empty because zip is generator (see https://docs.python.org/3/library/functions.html#zip)"
   ]
  },
  {
   "cell_type": "code",
   "execution_count": null,
   "metadata": {},
   "outputs": [],
   "source": [
    "# example 2: Different number of iterable elements\n",
    "nums_list = [1, 2, 3]\n",
    "str_list = ['one', 'two']\n",
    "nums_tuple = ('ONE', 'TWO', 'THREE', 'FOUR')\n",
    "\n",
    "# Notice, the size of num_list and numbers_tuple is different\n",
    "result = zip(nums_list, nums_tuple)\n",
    "\n",
    "# Converting to list\n",
    "result_list = list(result)\n",
    "print(result_list)\n",
    "\n",
    "result = zip(nums_list, str_list, nums_tuple)\n",
    "\n",
    "# Converting to list\n",
    "result_list = list(result)\n",
    "print(result_list)"
   ]
  },
  {
   "cell_type": "code",
   "execution_count": null,
   "metadata": {},
   "outputs": [],
   "source": [
    "# example 3: Unzipping the Value Using zip()\n",
    "coordinate = ['x', 'y', 'z']\n",
    "value = [3, 4, 5]\n",
    "\n",
    "result = zip(coordinate, value)\n",
    "print(result)\n",
    "\n",
    "result_list = list(result)\n",
    "print(result_list)\n",
    "\n",
    "c, v = zip(*result_list)\n",
    "print(f\"c = {c}\")\n",
    "print(f\"v = {v}\")"
   ]
  },
  {
   "cell_type": "markdown",
   "metadata": {},
   "source": [
    "### Comprehensions in Python\n",
    "\n",
    "There are three comprehensions in Python:\n",
    "\n",
    "1. List Comprehension\n",
    "\n",
    "2. Set Comprehension\n",
    "\n",
    "3. Dictionary Comprehension"
   ]
  },
  {
   "cell_type": "markdown",
   "metadata": {},
   "source": [
    "#### 1. List Comprehension\n",
    "\n",
    "List comprehensions provide a concise and readable way to create lists.\n",
    "\n",
    "Syntax: [expression for item in iterable if conditional]\n",
    "\n",
    "Common applications:\n",
    "- to make new lists where each element is the result of some operations applied to each member of another sequence \n",
    "  or iterable;\n",
    "- to create a subsequence of those elements that satisfy a certain condition.\n",
    "\n",
    "Link: https://docs.python.org/3/tutorial/datastructures.html#list-comprehensions"
   ]
  },
  {
   "cell_type": "code",
   "execution_count": null,
   "metadata": {},
   "outputs": [],
   "source": [
    "%%time\n",
    "n = 1_000_000\n",
    "squares = []\n",
    "for x in range(n):\n",
    "    squares.append(x ** 2)\n",
    "\n",
    "squares[:5]"
   ]
  },
  {
   "cell_type": "code",
   "execution_count": null,
   "metadata": {},
   "outputs": [],
   "source": [
    "%%time\n",
    "squares = list(map(lambda x: x ** 2, range(n)))"
   ]
  },
  {
   "cell_type": "code",
   "execution_count": null,
   "metadata": {},
   "outputs": [],
   "source": [
    "%%time\n",
    "squares = [x ** 2 for x in range(n)]"
   ]
  },
  {
   "cell_type": "code",
   "execution_count": null,
   "metadata": {},
   "outputs": [],
   "source": [
    "# Syntax: new_list = [expression for member in iterable (if conditional)]\n",
    "sentence = 'the rocket came back home hello from mars hello'\n",
    "\n",
    "result = [word for word in sentence.split() if word == 'hello']\n",
    "print(result)"
   ]
  },
  {
   "cell_type": "code",
   "execution_count": null,
   "metadata": {},
   "outputs": [],
   "source": [
    "# split()"
   ]
  },
  {
   "cell_type": "code",
   "execution_count": null,
   "metadata": {},
   "outputs": [],
   "source": [
    "# Syntax: new_list = [expression (if conditional) for member in iterable]\n",
    "original_prices = [1.25, -9.45, 10.22, 3.78, -5.92, 1.16]\n",
    "\n",
    "prices = [original_price if original_price > 0 else 0 for original_price in original_prices]\n",
    "print(prices)"
   ]
  },
  {
   "cell_type": "markdown",
   "metadata": {},
   "source": [
    "#### 2. Set Comprehension"
   ]
  },
  {
   "cell_type": "code",
   "execution_count": null,
   "metadata": {},
   "outputs": [],
   "source": [
    "a = {x for x in 'abracadabra' if x not in 'abc'}\n",
    "a"
   ]
  },
  {
   "cell_type": "markdown",
   "metadata": {},
   "source": [
    "#### 3. Dictionary Comprehension"
   ]
  },
  {
   "cell_type": "code",
   "execution_count": null,
   "metadata": {},
   "outputs": [],
   "source": [
    "# Initialize the 'fahrenheit' dictionary\n",
    "fahrenheit = {'t1': -30, 't2': -20, 't3': -10, 't4': 0}\n",
    "\n",
    "# Get the corresponding 'celsius' values and create the new dictionary\n",
    "celsius = {k: (float(5) / 9) * (v - 32) for (k, v) in fahrenheit.items()}\n",
    "\n",
    "print(celsius)"
   ]
  },
  {
   "cell_type": "code",
   "execution_count": null,
   "metadata": {},
   "outputs": [],
   "source": [
    "# Initialize 'fahrenheit' dictionary\n",
    "fahrenheit = {'t1': -30, 't2': -20, 't3': -10, 't4': 0}\n",
    "\n",
    "# Get the corresponding 'celsius' values\n",
    "celsius = map(lambda x: (float(5) / 9) * (x - 32), fahrenheit.values())\n",
    "\n",
    "# Create the 'celsius' dictionary\n",
    "celsius_dict = dict(zip(fahrenheit.keys(), celsius))\n",
    "\n",
    "print(celsius_dict)"
   ]
  },
  {
   "cell_type": "markdown",
   "metadata": {},
   "source": [
    "## Type Annotations\n",
    "\n",
    "Type Annotations are a new feature in python that allow for adding type hints to variables.\n",
    "\n",
    "Question: Why use them?\n",
    "\n",
    "Answer: Declaring types makes our code more explicit, and if done well, easier to read — both for ourselves and others."
   ]
  },
  {
   "cell_type": "code",
   "execution_count": null,
   "metadata": {},
   "outputs": [],
   "source": [
    "# example\n",
    "def get_sum(a, b):\n",
    "    return a + b\n",
    "\n",
    "get_sum(1, 2)"
   ]
  },
  {
   "cell_type": "code",
   "execution_count": null,
   "metadata": {},
   "outputs": [],
   "source": [
    "get_sum(\"1\", \"2\")"
   ]
  },
  {
   "cell_type": "code",
   "execution_count": null,
   "metadata": {},
   "outputs": [],
   "source": [
    "def get_sum(a: int, b: int) -> int:\n",
    "    return a + b\n",
    "\n",
    "get_sum(1, 2)"
   ]
  },
  {
   "cell_type": "code",
   "execution_count": null,
   "metadata": {},
   "outputs": [],
   "source": [
    "get_sum(\"1\", \"2\")  # doesn't work for 3.10 ?!"
   ]
  },
  {
   "cell_type": "code",
   "execution_count": null,
   "metadata": {},
   "outputs": [],
   "source": [
    "# Get python version\n",
    "! python3 --version"
   ]
  },
  {
   "cell_type": "markdown",
   "metadata": {},
   "source": [
    "## Exercises"
   ]
  },
  {
   "cell_type": "markdown",
   "metadata": {},
   "source": [
    "#### 1. N-th Tribonacci Number\n",
    "\n",
    "The Tribonacci sequence T_n is defined as follows: \n",
    "\n",
    "T(0) = 0, T(1) = 1, T(2) = 1, and T(n+3) = T(n) + T(n + 1) + T(n + 2) for n >= 0.\n",
    "\n",
    "Given n, return the value of T(n)."
   ]
  },
  {
   "cell_type": "code",
   "execution_count": null,
   "metadata": {},
   "outputs": [],
   "source": [
    "def tribonacci(n: int) -> int:\n",
    "    pass"
   ]
  },
  {
   "cell_type": "code",
   "execution_count": null,
   "metadata": {},
   "outputs": [],
   "source": []
  },
  {
   "cell_type": "markdown",
   "metadata": {},
   "source": [
    "#### 2. Two sum\n",
    "\n",
    "Given an array of integers <i>nums</i> and an integer <i>target</i>, return indices of the two numbers such that they add up to <i>target</i>.\n",
    "\n",
    "You may assume that each input would have exactly one solution, and you may not use the same element twice.\n",
    "\n",
    "You can return the answer in any order.\n",
    "\n",
    "Example 1:\n",
    "> Input: nums = [2,7,11,15], target = 9 &#8658; Output: [0,1]\n",
    "\n",
    "> Explanation: Because nums[0] + nums[1] == 9, we return [0, 1].\n",
    "\n",
    "Example 2:\n",
    "> Input: nums = [3,2,4], target = 6 &#8658; Output: [1,2]\n",
    "\n",
    "Example 3:\n",
    "> Input: nums = [3,3], target = 6 &#8658; Output: [0,1]"
   ]
  },
  {
   "cell_type": "code",
   "execution_count": null,
   "metadata": {},
   "outputs": [],
   "source": [
    "from typing import List\n",
    "\n",
    "# Brute Force\n",
    "def two_sum1(nums: List[int], target: int) -> List[int]:\n",
    "    \"\"\"\n",
    "    Time  Complexity: O(n ** 2)\n",
    "    Space Complexity: O(1)\n",
    "    \"\"\"\n",
    "    n = len(nums)\n",
    "    for i in range(n):\n",
    "        for j in range(i + 1, n):\n",
    "            if nums[i] + nums[j] == target:\n",
    "                return [i, j]"
   ]
  },
  {
   "cell_type": "code",
   "execution_count": null,
   "metadata": {},
   "outputs": [],
   "source": [
    "# Optimal Solution\n",
    "def two_sum2(nums: List[int], target: int) -> List[int]:\n",
    "    \"\"\"\n",
    "    Time  Complexity: O(n)\n",
    "    Space Complexity: O(k)\n",
    "    \"\"\"\n",
    "    \n",
    "    d = {}  # target - num : index\n",
    "    for i in range(len(nums)):\n",
    "        diff = target - nums[i]\n",
    "        if diff in d.keys():\n",
    "            return [d[diff], i]\n",
    "        else:\n",
    "            d[nums[i]] = i\n",
    "    print(d)"
   ]
  },
  {
   "cell_type": "code",
   "execution_count": null,
   "metadata": {},
   "outputs": [],
   "source": [
    "n = [11, 15, 11, 15, 7, 2]\n",
    "target = 9"
   ]
  },
  {
   "cell_type": "code",
   "execution_count": null,
   "metadata": {},
   "outputs": [],
   "source": [
    "%%time\n",
    "two_sum1(nums=n, target=target)"
   ]
  },
  {
   "cell_type": "code",
   "execution_count": null,
   "metadata": {},
   "outputs": [],
   "source": [
    "%%time\n",
    "two_sum2(nums=n, target=target)"
   ]
  },
  {
   "cell_type": "markdown",
   "metadata": {},
   "source": [
    "##### 3. Find Winner on a Tic Tac Toe Game\n",
    "\n",
    "Tic-tac-toe is played by two players <i>A</i> and <i>B</i> on a 3 x 3 grid. The rules of Tic-Tac-Toe are:\n",
    "\n",
    "> Players take turns placing characters into empty squares ' '.\n",
    "\n",
    "> The first player <i>A</i> always places 'X' characters, while the second player <i>B</i> always places 'O' characters. 'X' and 'O' characters are always placed into empty squares, never on filled ones.\n",
    "\n",
    "> The game ends when there are three of the same (non-empty) character filling any row, column, or diagonal. \n",
    "\n",
    "> The game also ends if all squares are non-empty.\n",
    "\n",
    "> No more moves can be played if the game is over. \n",
    "\n",
    "\n",
    "Given a 2D integer array <i>moves</i> where <i>moves[i] = [row_i, col_i]</i> indicates that the <i>ith</i> move will be played on <i>grid[rowi][coli]</i>. \n",
    "\n",
    "Return the winner of the game if it exists (<i>A</i> or <i>B</i>). In case the game ends in a draw return \"Draw\". If there are still movements to play return \"Pending\".\n",
    "\n",
    "You can assume that <i>moves</i> is valid (i.e., it follows the rules of Tic-Tac-Toe), the grid is initially empty, and <i>A</i> will play first.\n",
    "\n",
    "Example 1:\n",
    "> Input: moves = [[0,0],[2,0],[1,1],[2,1],[2,2]]  &#8658;  Output: \"A\"\n",
    "\n",
    "Example 2:\n",
    "> Input: moves = [[0,0],[1,1],[0,1],[0,2],[1,0],[2,0]] &#8658; Output: \"B\"\n",
    "\n",
    "Example 3:\n",
    "> Input: moves = [[0,0],[1,1],[2,0],[1,0],[1,2],[2,1],[0,1],[0,2],[2,2]]  &#8658; Output: \"Draw\"\n",
    "\n",
    "> Explanation: The game ends in a draw since there are no moves to make.\n",
    "\n",
    "Example 4:\n",
    "> Input: moves = [[0,0],[1,1]]  &#8658; Output: \"Pending\"\n",
    "\n",
    "> Explanation: The game has not finished yet."
   ]
  },
  {
   "cell_type": "code",
   "execution_count": null,
   "metadata": {},
   "outputs": [],
   "source": [
    "def tictactoe(moves: List[List[int]]) -> str:\n",
    "    pass"
   ]
  },
  {
   "cell_type": "code",
   "execution_count": null,
   "metadata": {},
   "outputs": [],
   "source": []
  }
 ],
 "metadata": {
  "kernelspec": {
   "display_name": "Python 3",
   "language": "python",
   "name": "python3"
  },
  "language_info": {
   "codemirror_mode": {
    "name": "ipython",
    "version": 3
   },
   "file_extension": ".py",
   "mimetype": "text/x-python",
   "name": "python",
   "nbconvert_exporter": "python",
   "pygments_lexer": "ipython3",
   "version": "3.6.4"
  }
 },
 "nbformat": 4,
 "nbformat_minor": 4
}
