{
 "cells": [
  {
   "cell_type": "code",
   "execution_count": null,
   "metadata": {},
   "outputs": [],
   "source": [
    "# Lecture 3: Functions (Part 2)\n",
    "\n",
    "# Anonymous/Lambda Function\n",
    "# (https://www.programiz.com/python-programming/anonymous-function)\n",
    "\n",
    "# Built-in Functions: map, filter и zip\n",
    "\n",
    "# List/dict/set comprehensions\n",
    "# (https://pyneng.readthedocs.io/ru/latest/book/08_python_basic_examples/x_comprehensions.html)\n",
    "\n",
    "# Exercises"
   ]
  },
  {
   "cell_type": "markdown",
   "metadata": {},
   "source": [
    "# Lecture 3: Functions (Part 2)\n",
    "\n",
    "> Anonymous/Lambda Function\n",
    "\n",
    "> Built-in Functions: map, filter и zip\n",
    "\n",
    "> List/dict/set comprehensions\n",
    "\n",
    "> Exercises"
   ]
  },
  {
   "cell_type": "code",
   "execution_count": null,
   "metadata": {},
   "outputs": [],
   "source": []
  }
 ],
 "metadata": {
  "kernelspec": {
   "display_name": "Python 3",
   "language": "python",
   "name": "python3"
  },
  "language_info": {
   "codemirror_mode": {
    "name": "ipython",
    "version": 3
   },
   "file_extension": ".py",
   "mimetype": "text/x-python",
   "name": "python",
   "nbconvert_exporter": "python",
   "pygments_lexer": "ipython3",
   "version": "3.6.4"
  }
 },
 "nbformat": 4,
 "nbformat_minor": 2
}
