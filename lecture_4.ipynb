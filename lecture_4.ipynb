{
 "cells": [
  {
   "cell_type": "markdown",
   "metadata": {},
   "source": [
    "# Lecture 4: Class\n",
    "\n",
    "> Object-oriented programming (OOP)\n",
    "\n",
    "> Python polymorphism\n",
    "\n",
    "> Python inheritance\n",
    "\n",
    "> Multiple Inheritance\n",
    "\n",
    "> Python polymorphism\n",
    "\n",
    "> Abstract Base Classes (@abstractmethod)\n",
    "\n",
    "> Decorators: @staticmethod, @classmethod and @property\n",
    "\n",
    "> Magic or Dunder Methods"
   ]
  },
  {
   "cell_type": "markdown",
   "metadata": {},
   "source": [
    "## Object-oriented programming\n",
    "\n",
    "Object-oriented programming (OOP) is a programming paradigm that uses objects and their interactions to design applications and computer programs.\n",
    "\n",
    "There are some basic programming concepts in OOP:\n",
    "\n",
    "> **Abstraction**: \n",
    "The abstraction is simplifying complex reality by modeling classes appropriate to the problem. \n",
    "\n",
    "> **Polymorphism**: \n",
    "The polymorphism is the process of using an operator or function in different ways for different data input.\n",
    "\n",
    "> **Encapsulation**: \n",
    "The encapsulation hides the implementation details of a class from other objects.\n",
    "\n",
    "> **Inheritance**: \n",
    "The inheritance is a way to form new classes using classes that have already been defined."
   ]
  },
  {
   "cell_type": "markdown",
   "metadata": {},
   "source": [
    "### Python objects\n",
    "\n",
    "Everything in Python is an object. Objects are basic building blocks of a Python OOP program."
   ]
  },
  {
   "cell_type": "code",
   "execution_count": null,
   "metadata": {},
   "outputs": [],
   "source": [
    "\"\"\"In this example we show that all these entities are in fact objects. \n",
    "   The type() function returns the type of the object specified.\n",
    "   Integers, strings, lists, dictionaries, tuples and functions are Python objects.\n",
    "\"\"\"\n",
    "\n",
    "def function():\n",
    "    pass\n",
    "\n",
    "print(type(1))\n",
    "print(type(\"\"))\n",
    "print(type([]))\n",
    "print(type({}))\n",
    "print(type(()))\n",
    "print(type(function))"
   ]
  },
  {
   "cell_type": "markdown",
   "metadata": {},
   "source": [
    "### Python class keyword"
   ]
  },
  {
   "cell_type": "code",
   "execution_count": null,
   "metadata": {},
   "outputs": [],
   "source": [
    "\"\"\"The previous objects were all built-in objects of the Python programming language.\n",
    "   The user defined objects are created using the 'class' keyword.\n",
    "   \n",
    "   From classes we construct instances.\n",
    "   An 'instance' is a specific object created from a particular class.\n",
    "\"\"\"\n",
    "\n",
    "class First:\n",
    "    pass\n",
    "\n",
    "fr = First()\n",
    "\n",
    "print(type(fr))\n",
    "print(type(First))"
   ]
  },
  {
   "cell_type": "markdown",
   "metadata": {},
   "source": [
    "### Python object initialization"
   ]
  },
  {
   "cell_type": "code",
   "execution_count": null,
   "metadata": {},
   "outputs": [],
   "source": [
    "\"\"\"Inside a class, we can define attributes and methods.\n",
    "   An 'attribute' is a characteristic of an object. This can be for example a salary of an employee.\n",
    "   A 'method' defines operations that we can perform with our objects.\n",
    "   \n",
    "   Technically, 'attributes' are variables and 'methods' are functions defined inside a class.\n",
    "   \n",
    "   A special method called __init__() is used to initialize an object.\n",
    "\"\"\"\n",
    "\n",
    "class Cat:\n",
    "    def __init__(self, name):\n",
    "        self.name = name\n",
    "\n",
    "missy = Cat('Missy')\n",
    "lucky = Cat('Lucky')\n",
    "\n",
    "print(missy.name)\n",
    "print(lucky.name)"
   ]
  },
  {
   "cell_type": "code",
   "execution_count": null,
   "metadata": {},
   "outputs": [],
   "source": [
    "\"\"\"The attributes can be assigned dynamically, not just during initialization.\n",
    "\"\"\"\n",
    "\n",
    "class Cat:\n",
    "    pass\n",
    "\n",
    "cat = Cat()\n",
    "cat.name = 'Lucky'\n",
    "print(cat.name)"
   ]
  },
  {
   "cell_type": "code",
   "execution_count": null,
   "metadata": {},
   "outputs": [],
   "source": [
    "\"\"\"What is the role of __init__()?\n",
    "   The __init__ method is similar to constructors in C++ and Java. \n",
    "   Constructors are used to initialize the object’s state. \n",
    "   The task of constructors is to initialize to the data members of the class when an object of class is created.\n",
    "\"\"\"\n",
    "\n",
    "class Cat:\n",
    "    def __init__(self):\n",
    "        print(\"I am a cat!\")\n",
    "\n",
    "cat = Cat()"
   ]
  },
  {
   "cell_type": "markdown",
   "metadata": {},
   "source": [
    "### Python class attributes"
   ]
  },
  {
   "cell_type": "code",
   "execution_count": null,
   "metadata": {},
   "outputs": [],
   "source": [
    "\"\"\"There are also so called 'class object attributes'. \n",
    "   Class object attributes are same for all instances of a class.\n",
    "\"\"\"\n",
    "\n",
    "class Cat:\n",
    "    \"\"\"It's a Cat class\"\"\"\n",
    "    species = 'mammal'  # class object attribute\n",
    "\n",
    "    def __init__(self, name, age):\n",
    "        self.name = name\n",
    "        self.age = age\n",
    "\n",
    "missy = Cat('Missy', 3)\n",
    "lucky = Cat('Lucky', 5)\n",
    "\n",
    "print(missy.name, missy.age)\n",
    "print(lucky.name, lucky.age)\n",
    "\n",
    "\"\"\"\n",
    "There are two ways how we can access the class object attributes: \n",
    "   - either via the name of the Cat class;\n",
    "   - with the help of a special __class__ attribute.\n",
    "\"\"\"\n",
    "\n",
    "print(Cat.species)\n",
    "print(missy.__class__.species)\n",
    "print(lucky.__class__.species)"
   ]
  },
  {
   "cell_type": "code",
   "execution_count": null,
   "metadata": {},
   "outputs": [],
   "source": [
    "Cat.species = \"blabla\"\n",
    "\n",
    "print(missy.__class__.species)\n",
    "print(lucky.__class__.species)"
   ]
  },
  {
   "cell_type": "code",
   "execution_count": null,
   "metadata": {},
   "outputs": [],
   "source": [
    "\"\"\"Python classes and instances of classes each have their own distinct namespaces\n",
    "   represented by pre-defined attributes 'MyClass.__dict__' and 'instance_of_MyClass.__dict__', respectively.\n",
    "\"\"\"\n",
    "\n",
    "print(Cat.__dict__)\n",
    "print()\n",
    "print(lucky.__dict__)"
   ]
  },
  {
   "cell_type": "markdown",
   "metadata": {},
   "source": [
    "### Python methods"
   ]
  },
  {
   "cell_type": "code",
   "execution_count": null,
   "metadata": {},
   "outputs": [],
   "source": [
    "\"\"\"Methods are functions defined inside the body of a class\n",
    "\"\"\"\n",
    "\n",
    "class Circle:\n",
    "    pi = 3.141592\n",
    "    def __init__(self, radius=1):\n",
    "        self.radius = radius\n",
    "\n",
    "    def area(self):\n",
    "        return self.radius * self.radius * Circle.pi\n",
    "\n",
    "    def set_radius(self, radius):\n",
    "        self.radius = radius\n",
    "\n",
    "    def get_radius(self):\n",
    "        return self.radius\n",
    "\n",
    "\n",
    "c = Circle()\n",
    "\n",
    "c.set_radius(5)\n",
    "print(c.get_radius())\n",
    "print(c.area())"
   ]
  },
  {
   "cell_type": "code",
   "execution_count": null,
   "metadata": {},
   "outputs": [],
   "source": [
    "\"\"\"We can call methods in two ways. \n",
    "   There are 'bounded' and 'unbounded' method calls.\n",
    "\"\"\"\n",
    "\n",
    "class Methods:\n",
    "    def __init__(self):\n",
    "        self.name = 'Methods'\n",
    "\n",
    "    def get_name(self):\n",
    "        return self.name\n",
    "\n",
    "\n",
    "m = Methods()\n",
    "\n",
    "# the bounded method call\n",
    "print(m.get_name())\n",
    "\n",
    "# the unbounded method call\n",
    "print(Methods.get_name(m))"
   ]
  },
  {
   "cell_type": "markdown",
   "metadata": {},
   "source": [
    "### Python inheritance\n",
    "\n",
    "**Inheritance** is a way to form new classes using classes that have already been defined.\n",
    "\n",
    "**Important benefits of inheritance** are code reuse and reduction of complexity of a program."
   ]
  },
  {
   "cell_type": "code",
   "execution_count": null,
   "metadata": {},
   "outputs": [],
   "source": [
    "class Animal:\n",
    "    def __init__(self):\n",
    "        print(\"Animal created!\")\n",
    "\n",
    "    def who_am_I(self):\n",
    "        print(\"Animal\")\n",
    "\n",
    "    def eat(self):\n",
    "        print(\"Eating\")\n",
    "\n",
    "\n",
    "class Dog(Animal):\n",
    "    def __init__(self):\n",
    "        super().__init__()\n",
    "        print(\"Dog created!\")\n",
    "\n",
    "    def who_am_I(self):\n",
    "        print(\"Dog\")\n",
    "\n",
    "    def bark(self):\n",
    "        print(\"Woof!\")\n",
    "\n",
    "d = Dog()\n",
    "print()\n",
    "d.who_am_I()\n",
    "print()\n",
    "d.eat()\n",
    "print()\n",
    "d.bark()"
   ]
  },
  {
   "cell_type": "code",
   "execution_count": null,
   "metadata": {},
   "outputs": [],
   "source": [
    "\"\"\"Two built-in functions isinstance() and issubclass() are used to check inheritances.\n",
    "\n",
    "   isinstance() returns True if the object is an instance of the class \n",
    "       or other classes derived from it.\n",
    "   \n",
    "   issubclass() is used to check for class inheritance.\n",
    "   \n",
    "   Each and every class in Python inherits from the base class 'object'.\n",
    "\"\"\"\n",
    "\n",
    "# isinstance() examples\n",
    "print(isinstance(d, Dog))\n",
    "print(isinstance(d, Animal))\n",
    "\n",
    "print()\n",
    "\n",
    "# issubclass() example\n",
    "print(issubclass(Dog, Animal))\n",
    "print(issubclass(Animal, Dog))\n",
    "print(issubclass(Dog, object))\n",
    "\n",
    "print()\n",
    "\n",
    "print(issubclass(bool, int))\n",
    "print(issubclass(int, object))\n",
    "print(issubclass(int, int))"
   ]
  },
  {
   "cell_type": "markdown",
   "metadata": {},
   "source": [
    "### Multiple Inheritance in Python\n",
    "\n",
    "When a class is derived from more than one base class it is called **multiple Inheritance**."
   ]
  },
  {
   "cell_type": "code",
   "execution_count": null,
   "metadata": {},
   "outputs": [],
   "source": [
    "\"\"\"The diamond problem\n",
    "   Solution: Method Resolution Order (MRO)\n",
    "   \n",
    "   The Python Method Resolution Order defines the class search path used by Python to search \n",
    "   for the right method to use in classes having multi-inheritance.\n",
    "\"\"\"\n",
    "\n",
    "#   A\n",
    "# B   C\n",
    "#   D\n",
    "\n",
    "class A:\n",
    "    def hi(self):\n",
    "        print(\"A\")\n",
    "\n",
    "class B(A):\n",
    "    def hi(self):\n",
    "        print(\"B\")\n",
    "\n",
    "class C(A):\n",
    "    def hi(self):\n",
    "        print(\"C\")\n",
    "\n",
    "class D(B, C):\n",
    "    pass\n",
    " \n",
    "d = D()\n",
    "d.hi()"
   ]
  },
  {
   "cell_type": "code",
   "execution_count": null,
   "metadata": {},
   "outputs": [],
   "source": [
    "\"\"\"In Python 3, the breadth-first search (BFS) algorithm is used to determine the order, that is, \n",
    "   first the interpreter will look for the 'hi' method in class B, if it is not there - in class C, then A.\n",
    "\n",
    "   Python 2 uses a depth-first search algorithm (DFS), that is, in this case, first B, then A, then C.\n",
    "\"\"\"\n",
    "\n",
    "D.mro()"
   ]
  },
  {
   "cell_type": "code",
   "execution_count": null,
   "metadata": {},
   "outputs": [],
   "source": [
    "\"\"\"If you need to use a method of a specific parent, for example hi() of a C class, \n",
    "   you need to call it directly by the class name, passing self as an argument.\n",
    "\"\"\"\n",
    "\n",
    "class D(B, C):\n",
    "    def call_hi(self):\n",
    "        C.hi(self)\n",
    "\n",
    "d = D()\n",
    "d.call_hi()"
   ]
  },
  {
   "cell_type": "markdown",
   "metadata": {},
   "source": [
    "### Python polymorphism\n",
    "\n",
    "**Polymorphism** is the process of using an operator or function in different ways for different data input. \n",
    "\n",
    "In practical terms, polymorphism means that if class B inherits from class A, it doesn't have to inherit everything about class A. It can do some of the things that class A does differently."
   ]
  },
  {
   "cell_type": "code",
   "execution_count": null,
   "metadata": {},
   "outputs": [],
   "source": [
    "\"\"\"Python uses polymorphism extensively in built-in types. \n",
    "   Here we use the same indexing operator for three different data types.\n",
    "\"\"\"\n",
    "\n",
    "a = \"alfa\"\n",
    "b = (1, 2, 3, 4)\n",
    "c = ['o', 'm', 'e', 'g', 'a']\n",
    "\n",
    "print(a[2])\n",
    "print(b[1])\n",
    "print(c[3])"
   ]
  },
  {
   "cell_type": "code",
   "execution_count": null,
   "metadata": {},
   "outputs": [],
   "source": [
    "class Animal:\n",
    "    def __init__(self, name=''):\n",
    "        self.name = name\n",
    "    \n",
    "    def talk(self):\n",
    "        pass\n",
    "\n",
    "\n",
    "class Cat(Animal):\n",
    "    def talk(self):\n",
    "        print(\"Meow!\")\n",
    "\n",
    "\n",
    "class Dog(Animal):\n",
    "    def talk(self):\n",
    "        print(\"Woof!\")\n",
    "\n",
    "a = Animal()\n",
    "a.talk()\n",
    "\n",
    "c = Cat(\"Missy\")\n",
    "c.talk()\n",
    "\n",
    "d = Dog(\"Rocky\")\n",
    "d.talk()"
   ]
  },
  {
   "cell_type": "markdown",
   "metadata": {},
   "source": [
    "### Python encapsulation\n",
    "\n",
    "The **encapsulation** hides the implementation details of a class from other objects.\n",
    "\n",
    "Compared to languages like Java that offer access modifiers (public or private) for variables and methods, Python provides access to all the variables and methods globally."
   ]
  },
  {
   "cell_type": "code",
   "execution_count": null,
   "metadata": {},
   "outputs": [],
   "source": [
    "class Person:\n",
    "    def __init__(self, name, age=0):\n",
    "        self.name = name\n",
    "        self.age = age\n",
    " \n",
    "    def display(self):\n",
    "        print(self.name)\n",
    "        print(self.age)\n",
    "\n",
    "\n",
    "person = Person('Dev', 30)\n",
    "\n",
    "# accessing using class method\n",
    "person.display()\n",
    "\n",
    "# accessing directly from outside\n",
    "print(person.name)\n",
    "print(person.age)"
   ]
  },
  {
   "cell_type": "code",
   "execution_count": null,
   "metadata": {},
   "outputs": [],
   "source": [
    "\"\"\"Using Single Underscore\n",
    "\n",
    "   A common Python programming convention to identify a private variable is by prefixing it with an underscore.\n",
    "   Now, this doesn’t really make any difference on the compiler side of things.\n",
    "   \n",
    "   The variable is still accessible as usual. But being a convention that programmers have picked up on, \n",
    "   it tells other programmers that the variables or methods have to be used only within the scope of the class.\n",
    "\"\"\"\n",
    "\n",
    "class Person:\n",
    "    def __init__(self, name, age=0):\n",
    "        self.name = name\n",
    "        self._age = age  # private\n",
    " \n",
    "    def display(self):\n",
    "        print(self.name)\n",
    "        print(self._age)\n",
    "\n",
    "person = Person('Dev', 30)\n",
    "\n",
    "# accessing using class method\n",
    "person.display()\n",
    "\n",
    "# accessing directly from outside\n",
    "print(person.name)\n",
    "print(person._age)"
   ]
  },
  {
   "cell_type": "code",
   "execution_count": null,
   "metadata": {},
   "outputs": [],
   "source": [
    "\"\"\"Using Double Underscores\n",
    "\n",
    "   If you want to make class members i.e. methods and variables private, \n",
    "   then you should prefix them with double underscores. \n",
    "\n",
    "   But it is still possible to access the class members from outside it.\n",
    "\"\"\"\n",
    "\n",
    "class Person:\n",
    "    def __init__(self, name, age=0):\n",
    "        self.name = name\n",
    "        self.__age = age\n",
    " \n",
    "    def display(self):\n",
    "        print(self.name)\n",
    "        print(self.__age)\n",
    "\n",
    "\n",
    "person = Person('Dev', 30)\n",
    "\n",
    "# accessing using class method\n",
    "person.display()\n",
    "\n",
    "# accessing directly from outside\n",
    "print('Trying to access variables from outside the class')\n",
    "print(person.name)\n",
    "print(person.__age)"
   ]
  },
  {
   "cell_type": "code",
   "execution_count": null,
   "metadata": {},
   "outputs": [],
   "source": [
    "# direct access to private member using name mangling\n",
    "print(person._Person__age)"
   ]
  },
  {
   "cell_type": "markdown",
   "metadata": {},
   "source": [
    "### Abstract Base Classes\n",
    "\n",
    "The Employee class is called an abstract base class. Abstract base classes exist to be inherited, but never instantiated. \n",
    "\n",
    "Python provides the **abc** module to define abstract base classes."
   ]
  },
  {
   "cell_type": "code",
   "execution_count": null,
   "metadata": {},
   "outputs": [],
   "source": [
    "class Employee:\n",
    "    def __init__(self, id, name):\n",
    "        self.id = id\n",
    "        self.name = name\n",
    "\n",
    "\n",
    "class SalaryEmployee(Employee):\n",
    "    def __init__(self, id, name, weekly_salary):\n",
    "        super().__init__(id, name)\n",
    "        self.weekly_salary = weekly_salary\n",
    "\n",
    "    def calculate_payroll(self):\n",
    "        return self.weekly_salary\n",
    "\n",
    "\n",
    "class HourlyEmployee(Employee):\n",
    "    def __init__(self, id, name, hours_worked, hour_rate):\n",
    "        super().__init__(id, name)\n",
    "        self.hours_worked = hours_worked\n",
    "        self.hour_rate = hour_rate\n",
    "\n",
    "    def calculate_payroll(self):\n",
    "        return self.hours_worked * self.hour_rate\n",
    "\n",
    "    \n",
    "class CommissionEmployee(SalaryEmployee):\n",
    "    def __init__(self, id, name, weekly_salary, commission):\n",
    "        super().__init__(id, name, weekly_salary)\n",
    "        self.commission = commission\n",
    "\n",
    "    def calculate_payroll(self):\n",
    "        fixed = super().calculate_payroll()\n",
    "        return fixed + self.commission"
   ]
  },
  {
   "cell_type": "code",
   "execution_count": null,
   "metadata": {},
   "outputs": [],
   "source": [
    "# Case 1: ABC and @abstractmethod\n",
    "from abc import ABC, abstractmethod\n",
    "\n",
    "\n",
    "class Employee(ABC):\n",
    "    def __init__(self, id, name):\n",
    "        self.id = id\n",
    "        self.name = name\n",
    "\n",
    "    @abstractmethod\n",
    "    def calculate_payroll(self):\n",
    "        pass\n",
    "\n",
    "# employee = Employee(1, 'abstract')\n",
    "Employee.__dict__, Employee.calculate_payroll.__dict__"
   ]
  },
  {
   "cell_type": "code",
   "execution_count": null,
   "metadata": {},
   "outputs": [],
   "source": [
    "\"\"\"This change has two nice side-effects:\n",
    "    - You’re telling users of the module that objects of type Employee can’t be created.\n",
    "    - You’re telling other developers working on the module that if they derive from Employee, \n",
    "      then they must override the .calculate_payroll() abstract method.\n",
    "      \n",
    "    The output shows that the class cannot be instantiated \n",
    "    because it contains an abstract method calculate_payroll(). \n",
    "\"\"\"\n",
    "\n",
    "# The output shows that the class cannot be instantiated because it contains an abstract method calculate_payroll(). \n",
    "employee = Employee(1, 'abstract')"
   ]
  },
  {
   "cell_type": "code",
   "execution_count": null,
   "metadata": {},
   "outputs": [],
   "source": [
    "# Case 2\n",
    "class Employee:\n",
    "    def __init__(self, id, name):\n",
    "        self.id = id\n",
    "        self.name = name\n",
    "    \n",
    "    def calculate_payroll(self):\n",
    "        pass\n",
    "\n",
    "employee = Employee(1, 'abstract')\n",
    "Employee.__dict__\n",
    "Employee.calculate_payroll.__dict__"
   ]
  },
  {
   "cell_type": "code",
   "execution_count": null,
   "metadata": {},
   "outputs": [],
   "source": [
    "# Case 3: @abstractmethod\n",
    "from abc import abstractmethod\n",
    "\n",
    "\n",
    "class Employee:\n",
    "    def __init__(self, id, name):\n",
    "        self.id = id\n",
    "        self.name = name\n",
    "\n",
    "    @abstractmethod\n",
    "    def calculate_payroll(self):\n",
    "        pass\n",
    "\n",
    "employee2 = Employee(1, 'abstract')\n",
    "Employee.__dict__\n",
    "Employee.calculate_payroll.__dict__"
   ]
  },
  {
   "cell_type": "code",
   "execution_count": null,
   "metadata": {},
   "outputs": [],
   "source": [
    "# Case 4: ABC\n",
    "from abc import ABC\n",
    "\n",
    "\n",
    "class Employee(ABC):\n",
    "    def __init__(self, id, name):\n",
    "        self.id = id\n",
    "        self.name = name\n",
    "    \n",
    "    def calculate_payroll(self):\n",
    "        pass\n",
    "\n",
    "employee = Employee(1, 'abstract')\n",
    "Employee.__dict__\n",
    "Employee.calculate_payroll.__dict__"
   ]
  },
  {
   "cell_type": "code",
   "execution_count": null,
   "metadata": {},
   "outputs": [],
   "source": [
    "employee = Employee(1, 'abstract')\n",
    "employee.id"
   ]
  },
  {
   "cell_type": "markdown",
   "metadata": {},
   "source": [
    "### Decorators: @staticmethod, @classmethod and @property"
   ]
  },
  {
   "cell_type": "markdown",
   "metadata": {},
   "source": [
    "#### @staticmethod and @classmethod"
   ]
  },
  {
   "cell_type": "code",
   "execution_count": null,
   "metadata": {},
   "outputs": [],
   "source": [
    "\"\"\"@classmethod:\n",
    "   Instead of accepting a 'self' parameter, class methods take a 'cls' parameter that points to the class\n",
    "   and not the object instance when the method is called.\n",
    "\"\"\"\n",
    "\n",
    "\"\"\"@staticmethod:\n",
    "   This type of method takes neither a 'self' nor a 'cls' parameter\n",
    "   (but it’s free to accept an arbitrary number of other parameters).\n",
    "\"\"\"\n",
    "\n",
    "class MyClass:\n",
    "    def method(self):\n",
    "        return \"instance method called\", self\n",
    "\n",
    "    @classmethod\n",
    "    def classmethod(cls):\n",
    "        return \"class method called\", cls\n",
    "\n",
    "    @staticmethod\n",
    "    def staticmethod():\n",
    "        return \"static method called\"\n",
    "\n",
    "\n",
    "var = MyClass()\n",
    "print(var.method())\n",
    "print(var.classmethod())\n",
    "print(var.staticmethod())"
   ]
  },
  {
   "cell_type": "code",
   "execution_count": null,
   "metadata": {},
   "outputs": [],
   "source": [
    "MyClass.__dict__"
   ]
  },
  {
   "cell_type": "code",
   "execution_count": null,
   "metadata": {},
   "outputs": [],
   "source": [
    "# Note: we can also call the later two methods on the class directly, but not on the 'method':\n",
    "print(MyClass.classmethod())\n",
    "print(MyClass.staticmethod())\n",
    "print(MyClass.method())"
   ]
  },
  {
   "cell_type": "markdown",
   "metadata": {},
   "source": [
    "#### @property"
   ]
  },
  {
   "cell_type": "code",
   "execution_count": null,
   "metadata": {},
   "outputs": [],
   "source": [
    "class Box:\n",
    "    def __init__(self):\n",
    "        self.__weight = 0\n",
    "    \n",
    "    @property\n",
    "    def weight(self):\n",
    "        return self.__weight\n",
    "    \n",
    "b = Box()\n",
    "print(b.weight)"
   ]
  },
  {
   "cell_type": "code",
   "execution_count": null,
   "metadata": {},
   "outputs": [],
   "source": [
    "class Circle:\n",
    "    def __init__(self, r):\n",
    "        self.r = r\n",
    "    \n",
    "    @property\n",
    "    def area(self):\n",
    "        return 3.14 * self.r**2\n",
    "\n",
    "c = Circle(10)\n",
    "print(c.area)"
   ]
  },
  {
   "cell_type": "markdown",
   "metadata": {},
   "source": [
    "### Magic or Dunder Methods\n",
    "\n",
    "Magic methods in Python are the special methods that start and end with the double underscores. They are also called dunder methods. Magic methods are not meant to be invoked directly by you, but the invocation happens internally from the class on a certain action."
   ]
  },
  {
   "cell_type": "code",
   "execution_count": null,
   "metadata": {},
   "outputs": [],
   "source": [
    "# Built-in classes in Python define many magic methods.\n",
    "# Use the dir() function to see the number of magic methods inherited by a class.\n",
    "\n",
    "dir(int)"
   ]
  },
  {
   "cell_type": "code",
   "execution_count": null,
   "metadata": {},
   "outputs": [],
   "source": [
    "# For example, the __add__ method is a magic method which gets called when we add two numbers using the + operator.\n",
    "n = 10\n",
    "print(n + 5)\n",
    "print(n.__add__(5))"
   ]
  },
  {
   "cell_type": "code",
   "execution_count": null,
   "metadata": {},
   "outputs": [],
   "source": [
    "\"\"\"__str__() method:\n",
    "\n",
    "   It is overridden to return a printable string representation of any user defined class.\n",
    "\"\"\"\n",
    "\n",
    "class Employee:\n",
    "    def __init__(self):\n",
    "        self.name = 'Swati'\n",
    "        self.salary = 100_000\n",
    "    \n",
    "    def __str__(self):\n",
    "        return f'name={self.name}, salary={self.salary}'\n",
    "\n",
    "emp = Employee()\n",
    "print(emp)"
   ]
  },
  {
   "cell_type": "code",
   "execution_count": null,
   "metadata": {},
   "outputs": [],
   "source": [
    "\"\"\"__del__() method:\n",
    "\n",
    "   Destructors are called when an object gets destroyed. \n",
    "   In Python, destructors are not needed as much needed in C++ \n",
    "   because Python has a garbage collector that handles memory management automatically.\n",
    "   \n",
    "   The __del__() method is a known as a destructor method in Python.\n",
    "   It is called when all references to the object have been deleted i.e when an object is garbage collected.\n",
    "\"\"\"\n",
    "\n",
    "class Employee:\n",
    "    def __init__(self):\n",
    "        print('Employee created.')\n",
    "  \n",
    "    # Deleting (Calling destructor)\n",
    "    def __del__(self):\n",
    "        print('Destructor called, Employee deleted.')\n",
    "\n",
    "obj = Employee()\n",
    "del obj"
   ]
  },
  {
   "cell_type": "code",
   "execution_count": null,
   "metadata": {},
   "outputs": [],
   "source": [
    "my_list = [1, 2, 3]\n",
    "del my_list[0]\n",
    "my_list"
   ]
  },
  {
   "cell_type": "code",
   "execution_count": null,
   "metadata": {},
   "outputs": [],
   "source": [
    "\"\"\"__slots__ Magic:\n",
    "\n",
    "   When we create an object from a class, the attributes of the object will be stored in a dictionary \n",
    "   called __dict__. We use this dictionary to get and set attributes.\n",
    "   It allows us to dynamically create new attributes after the creation of the object.\n",
    "\n",
    "   When we create objects for classes, it requires memory and the attribute are stored in the form of a dictionary.\n",
    "   In case if we need to allocate thousands of objects, it will take a lot of memory space.\n",
    "\n",
    "   __slots__ provide a special mechanism to reduce the size of objects.\n",
    "   It is a concept of memory optimization on objects.\n",
    "\"\"\"\n",
    "\n",
    "class Article:\n",
    "    def __init__(self, date, writer):\n",
    "        self.date = date\n",
    "        self.writer = writer\n",
    "\n",
    "article = Article(\"2020-06-01\", \"xiaoxu\")\n",
    "print(article.__dict__)\n",
    "\n",
    "print()\n",
    "\n",
    "print(Article.__dict__)\n",
    "\n",
    "print()\n",
    "\n",
    "article.reviewer = \"jojo\"\n",
    "print(article.__dict__)\n",
    "print(article.reviewer)"
   ]
  },
  {
   "cell_type": "code",
   "execution_count": null,
   "metadata": {},
   "outputs": [],
   "source": [
    "class ArticleWithSlots:\n",
    "    __slots__ = [\"date\", \"writer\"]\n",
    "\n",
    "    def __init__(self, date, writer):\n",
    "        self.date = date\n",
    "        self.writer = writer\n",
    "        \n",
    "print(ArticleWithSlots.__dict__)\n",
    "print()\n",
    "print(article_slots.__slots__)\n",
    "print()\n",
    "print(article_slots.__dict__)"
   ]
  },
  {
   "cell_type": "code",
   "execution_count": null,
   "metadata": {},
   "outputs": [],
   "source": [
    "\"\"\"__slots__ has faster creating of objects\n",
    "\"\"\"\n",
    "\n",
    "def create_object(cls, size):\n",
    "    for _ in range(size):\n",
    "        article = cls(\"2020-01-01\", \"xiaoxu\")"
   ]
  },
  {
   "cell_type": "code",
   "execution_count": null,
   "metadata": {},
   "outputs": [],
   "source": [
    "%%time\n",
    "create_object(Article, 1_000_000)"
   ]
  },
  {
   "cell_type": "code",
   "execution_count": null,
   "metadata": {},
   "outputs": [],
   "source": [
    "%%time\n",
    "create_object(ArticleWithSlots, 1_000_000)"
   ]
  },
  {
   "cell_type": "code",
   "execution_count": null,
   "metadata": {},
   "outputs": [],
   "source": [
    "\"\"\"__slots__ has faster attribute access\n",
    "\"\"\"\n",
    "\n",
    "def access_attribute(obj, size):\n",
    "    for _ in range(size):\n",
    "        writer = obj.writer\n",
    "        \n",
    "article = Article(\"2020-01-01\", \"xiaoxu\")\n",
    "article_slots = ArticleWithSlots(\"2020-01-01\", \"xiaoxu\")"
   ]
  },
  {
   "cell_type": "code",
   "execution_count": null,
   "metadata": {},
   "outputs": [],
   "source": [
    "%%time\n",
    "access_attribute(article, 1_000_000)"
   ]
  },
  {
   "cell_type": "code",
   "execution_count": null,
   "metadata": {},
   "outputs": [],
   "source": [
    "%%time\n",
    "access_attribute(article_slots, 1_000_000)"
   ]
  },
  {
   "cell_type": "code",
   "execution_count": null,
   "metadata": {},
   "outputs": [],
   "source": [
    "\"\"\"__slots__ reduces RAM usage\n",
    "\"\"\"\n",
    "\n",
    "from pympler import asizeof\n",
    "\n",
    "article = Article(\"2020-01-01\", \"xiaoxu\")\n",
    "article_slots = ArticleWithSlots(\"2020-01-01\", \"xiaoxu\")\n",
    "\n",
    "print(f\"a size of article_slots: {asizeof.asizeof(article_slots)} bytes\")\n",
    "print(f\"a size of article:       {asizeof.asizeof(article)} bytes\")\n",
    "\n",
    "print(article.__dict__)\n",
    "print(article_slots.__slots__)"
   ]
  },
  {
   "cell_type": "code",
   "execution_count": null,
   "metadata": {},
   "outputs": [],
   "source": [
    "len(dir(article_slots)), len(dir(article))"
   ]
  },
  {
   "cell_type": "markdown",
   "metadata": {},
   "source": [
    "### References:\n",
    "<ol>\n",
    "<li> <a href=\"https://zetcode.com/lang/python/oop/\">Object-oriented programming in Python</a> </li>\n",
    "<li> <a href=\"https://towardsdatascience.com/understand-slots-in-python-e3081ef5196d\">Understand slots in Python</a></li>\n",
    "<li> <a href=\"https://www.askpython.com/python/oops/encapsulation-in-python\">Encapsulation In Python</a> </li>\n",
    "<li> <a href=\"http://pythonicway.com/education/python-oop-themes/35-python-multiple-inheritance\">Multiple inheritance in Python</a> </li>\n",
    "<li> <a href=\"https://realpython.com/inheritance-composition-python/\">Abstract Base Classes in Python</a> </li>\n",
    "</ol>"
   ]
  }
 ],
 "metadata": {
  "kernelspec": {
   "display_name": "Python 3",
   "language": "python",
   "name": "python3"
  },
  "language_info": {
   "codemirror_mode": {
    "name": "ipython",
    "version": 3
   },
   "file_extension": ".py",
   "mimetype": "text/x-python",
   "name": "python",
   "nbconvert_exporter": "python",
   "pygments_lexer": "ipython3",
   "version": "3.6.4"
  }
 },
 "nbformat": 4,
 "nbformat_minor": 2
}
