{
 "cells": [
  {
   "cell_type": "markdown",
   "metadata": {},
   "source": [
    "# Lecture 10: Binary Tree\n",
    "\n",
    "A tree is an abstract data type that stores elements hierarchically.\n",
    "\n",
    "With the exception of the top element, each element in a binary tree has a **parent** element and at most two **children** elements. We typically call the top element the **root** of the tree.\n",
    "\n",
    "A tree is **ordered** if there is a meaningful linear order among the children of each node; that is, we purposefully identify the children of a node as being the first, second, third, and so on.\n",
    "\n",
    "A **binary tree** is an ordered tree with the following properties:\n",
    "\n",
    "> 1. Every node has at most two children.\n",
    "\n",
    "> 2. Each child node is labeled as being either a left child or a right child.\n",
    "\n",
    "> 3. A left child precedes a right child in the order of children of a node.\n",
    "\n",
    "Two nodes that are children of the same parent are **siblings**. A node v is **external** if v has no children. A node v is internal if it has one or more children. **External** nodes are also known as **leaves**.\n",
    "\n",
    "The subtree rooted at a left or right child of an internal node v is called a **left subtree** or **right subtree**, respectively, of v.\n",
    "\n",
    "A binary tree is **proper** if each node has either zero or two children. Some people also refer to such trees as being **full binary trees**. Thus, in a proper binary tree, every internal node has exactly two children. A binary tree that is not proper is **improper**."
   ]
  },
  {
   "cell_type": "markdown",
   "metadata": {},
   "source": [
    "## Binary Tree Traversals\n",
    "\n",
    "1. Breadth-First Search:\n",
    "\n",
    "> Level-Order\n",
    "\n",
    "2. Depth-First Search:\n",
    "\n",
    "> 2.1 Preorder: root - left - right\n",
    "\n",
    "> 2.2 Inorder: left - root - right\n",
    "\n",
    "> 2.3 Postorder: left - right - root"
   ]
  },
  {
   "cell_type": "code",
   "execution_count": null,
   "metadata": {},
   "outputs": [],
   "source": [
    "from typing import Optional, List\n",
    "\n",
    "class TreeNode:\n",
    "    \"\"\"Definition for a binary tree node\"\"\"\n",
    "    def __init__(self, val=0, left=None, right=None):\n",
    "        self.val = val\n",
    "        self.left = left\n",
    "        self.right = right"
   ]
  },
  {
   "cell_type": "markdown",
   "metadata": {},
   "source": [
    "## 1. Breadth-First Search\n",
    "\n",
    "**Level Order Traversal** is the algorithm to process all nodes of a tree by traversing through depth, first the root, then the child of the root, etc"
   ]
  },
  {
   "cell_type": "code",
   "execution_count": null,
   "metadata": {},
   "outputs": [],
   "source": [
    "def level_order(root: Optional[TreeNode]) -> List[List[int]]:\n",
    "    \"\"\"Binary Tree Level Order Traversal (LeetCode: 102)\n",
    "    Time Complexity:  O(n)\n",
    "    Space Complexity: O(n)\n",
    "    where n - number of nodes in the binary tree.\n",
    "    \"\"\"\n",
    "    if not root:\n",
    "        return []\n",
    "\n",
    "    queue = [root]\n",
    "    next_queue = []\n",
    "    level = []\n",
    "    result = []\n",
    "    while queue:\n",
    "        for node in queue:\n",
    "            level.append(node.val)\n",
    "            if node.left:\n",
    "                next_queue.append(node.left)\n",
    "            if node.right:\n",
    "                next_queue.append(node.right)\n",
    "        result.append(level)\n",
    "        level = []\n",
    "        queue = next_queue\n",
    "        next_queue = []\n",
    "    return result"
   ]
  },
  {
   "cell_type": "code",
   "execution_count": null,
   "metadata": {},
   "outputs": [],
   "source": [
    "\"\"\"Example:\n",
    "     1 \n",
    "   /   \\\n",
    "  2     3\n",
    " / \\   /  \\\n",
    "4   5 6    7\n",
    "\"\"\"\n",
    "root = TreeNode(1)\n",
    "root.left = TreeNode(2, TreeNode(4), TreeNode(5))\n",
    "root.right = TreeNode(3, TreeNode(6), TreeNode(7))"
   ]
  },
  {
   "cell_type": "code",
   "execution_count": null,
   "metadata": {},
   "outputs": [],
   "source": [
    "level_order(root)"
   ]
  },
  {
   "cell_type": "markdown",
   "metadata": {},
   "source": [
    "## 2. Depth-First Search"
   ]
  },
  {
   "cell_type": "markdown",
   "metadata": {},
   "source": [
    "### 2.1 Pre-order Traversal\n",
    "\n",
    "> Step 1: Visit root node.\n",
    "\n",
    "> Step 2: Recursively traverse left subtree.\n",
    "\n",
    "> Step 3: Recursively traverse right subtree."
   ]
  },
  {
   "cell_type": "markdown",
   "metadata": {},
   "source": [
    "### Recursive procedure"
   ]
  },
  {
   "cell_type": "code",
   "execution_count": null,
   "metadata": {},
   "outputs": [],
   "source": [
    "preorder = []\n",
    "def preorder_recursive(root: Optional[TreeNode]) -> None:\n",
    "    if root:\n",
    "        # print(root.val)\n",
    "        preorder.append(root.val)\n",
    "        preorder_recursive(root.left)\n",
    "        preorder_recursive(root.right)"
   ]
  },
  {
   "cell_type": "code",
   "execution_count": null,
   "metadata": {},
   "outputs": [],
   "source": [
    "preorder_recursive(root)\n",
    "preorder"
   ]
  },
  {
   "cell_type": "markdown",
   "metadata": {},
   "source": [
    "### Iterative procedure"
   ]
  },
  {
   "cell_type": "code",
   "execution_count": null,
   "metadata": {},
   "outputs": [],
   "source": [
    "def preorder_iterative(root: Optional[TreeNode]) -> List[List[int]]:\n",
    "    \"\"\"Binary Tree Preorder Traversal (LeetCode: 144)\n",
    "    Preorder Traversal: <root><left><right>\n",
    "    Time Complexity:  O(n)\n",
    "    Space Complexity: O(n)\n",
    "    where n - number of nodes in the binary tree.\n",
    "    \"\"\"\n",
    "    if not root:\n",
    "        return []\n",
    "\n",
    "    stack = [root]\n",
    "    result = []\n",
    "    while stack:\n",
    "        node = stack.pop()\n",
    "        result.append(node.val)\n",
    "        if node.right:\n",
    "            stack.append(node.right)\n",
    "        if node.left:\n",
    "            stack.append(node.left)\n",
    "    return result"
   ]
  },
  {
   "cell_type": "code",
   "execution_count": null,
   "metadata": {},
   "outputs": [],
   "source": [
    "preorder_iterative(root)"
   ]
  },
  {
   "cell_type": "markdown",
   "metadata": {},
   "source": [
    "### 2.2 In-order Traversal\n",
    "\n",
    "> Step 1: Recursively traverse left subtree.\n",
    "\n",
    "> Step 2: Visit root node.\n",
    "\n",
    "> Step 3: Recursively traverse right subtree."
   ]
  },
  {
   "cell_type": "markdown",
   "metadata": {},
   "source": [
    "### Recursive procedure"
   ]
  },
  {
   "cell_type": "code",
   "execution_count": null,
   "metadata": {},
   "outputs": [],
   "source": [
    "inorder = []\n",
    "def inorder_recursive(root: Optional[TreeNode]) -> None:\n",
    "    if root:\n",
    "        inorder_recursive(root.left)\n",
    "        # print(root.val)\n",
    "        inorder.append(root.val)\n",
    "        inorder_recursive(root.right)"
   ]
  },
  {
   "cell_type": "code",
   "execution_count": null,
   "metadata": {},
   "outputs": [],
   "source": [
    "inorder_recursive(root)\n",
    "inorder"
   ]
  },
  {
   "cell_type": "markdown",
   "metadata": {},
   "source": [
    "### Iterative procedure"
   ]
  },
  {
   "cell_type": "code",
   "execution_count": null,
   "metadata": {},
   "outputs": [],
   "source": [
    "def inorder_iterative(root: Optional[TreeNode]) -> List[List[int]]:\n",
    "    \"\"\"Binary Tree Inorder Traversal (LeetCode: 94)\n",
    "    Inorder Traversal: <left><root><right>\n",
    "    Time Complexity:  O(n)\n",
    "    Space Complexity: O(n)\n",
    "    where n - number of nodes in the binary tree.\n",
    "    \"\"\"\n",
    "    stack = []\n",
    "    result = []\n",
    "    while root or stack:\n",
    "        while root:\n",
    "            stack.append(root)\n",
    "            root = root.left\n",
    "        root = stack.pop()\n",
    "        result.append(root.val)\n",
    "        root = root.right\n",
    "    return result"
   ]
  },
  {
   "cell_type": "code",
   "execution_count": null,
   "metadata": {},
   "outputs": [],
   "source": [
    "inorder_iterative(root)"
   ]
  },
  {
   "cell_type": "markdown",
   "metadata": {},
   "source": [
    "### 2.3 Post-order Traversal\n",
    "\n",
    "> Step 1 − Recursively traverse left subtree.\n",
    "\n",
    "> Step 2 − Recursively traverse right subtree.\n",
    "\n",
    "> Step 3 − Visit root node."
   ]
  },
  {
   "cell_type": "markdown",
   "metadata": {},
   "source": [
    "### Recursive procedure"
   ]
  },
  {
   "cell_type": "code",
   "execution_count": null,
   "metadata": {},
   "outputs": [],
   "source": [
    "postorder = []\n",
    "def postorder_recursive(root: Optional[TreeNode]) -> None:\n",
    "    if root:\n",
    "        postorder_recursive(root.left)\n",
    "        postorder_recursive(root.right)\n",
    "        postorder.append(root.val)\n",
    "        # print(root.val)"
   ]
  },
  {
   "cell_type": "code",
   "execution_count": null,
   "metadata": {},
   "outputs": [],
   "source": [
    "postorder_recursive(root)\n",
    "postorder"
   ]
  },
  {
   "cell_type": "markdown",
   "metadata": {},
   "source": [
    "### Iterative procedure"
   ]
  },
  {
   "cell_type": "code",
   "execution_count": null,
   "metadata": {},
   "outputs": [],
   "source": [
    "def postorder_iterative(root: TreeNode) -> List[int]:\n",
    "    \"\"\"Binary Tree Postorder Traversal (LeetCode: 145)\n",
    "    Preorder Traversal: <left><right><root>\n",
    "    Time Complexity:  O(n)\n",
    "    Space Complexity: O(n)\n",
    "    where n - number of nodes in the binary tree.\n",
    "    \"\"\"\n",
    "    if not root:\n",
    "        return []\n",
    "    \n",
    "    stack = []\n",
    "    result = []\n",
    "    \n",
    "    left = root\n",
    "    while stack or left:\n",
    "        if left:\n",
    "            stack.append(left)\n",
    "            left = left.left\n",
    "        else:\n",
    "            leaf = stack[-1].right\n",
    "            if leaf:\n",
    "                left = leaf\n",
    "            else:\n",
    "                leaf = stack.pop()\n",
    "                result.append(leaf.val)\n",
    "                while stack and stack[-1].right == leaf:\n",
    "                    leaf = stack.pop()\n",
    "                    result.append(leaf.val)\n",
    "    return result"
   ]
  },
  {
   "cell_type": "code",
   "execution_count": null,
   "metadata": {},
   "outputs": [],
   "source": [
    "postorder_iterative(root)"
   ]
  },
  {
   "cell_type": "code",
   "execution_count": null,
   "metadata": {},
   "outputs": [],
   "source": []
  },
  {
   "cell_type": "markdown",
   "metadata": {},
   "source": [
    "### Exercises"
   ]
  },
  {
   "cell_type": "code",
   "execution_count": null,
   "metadata": {},
   "outputs": [],
   "source": [
    "\"\"\"Exercise 1: Univalued Binary Tree\n",
    "A binary tree is uni-valued if every node in the tree has the same value.\n",
    "Given the root of a binary tree, return true if the given tree is uni-valued, or false otherwise.\n",
    "\n",
    "INPUT:\n",
    "root = TreeNode(1)\n",
    "root.left = TreeNode(1, TreeNode(1), TreeNode(1))\n",
    "root.right = TreeNode(1, TreeNode(1), TreeNode(1))\n",
    "\n",
    "     1 \n",
    "   /   \\\n",
    "  1     1\n",
    " / \\   /  \\\n",
    "1   1 1    1\n",
    "\n",
    "OUTPUT: True\n",
    "\"\"\"\n",
    "\n",
    "class Solution:\n",
    "    def isUnivalTree(self, root: Optional[TreeNode]) -> bool:\n",
    "        # add your code\n",
    "        pass"
   ]
  },
  {
   "cell_type": "code",
   "execution_count": null,
   "metadata": {},
   "outputs": [],
   "source": []
  },
  {
   "cell_type": "code",
   "execution_count": null,
   "metadata": {},
   "outputs": [],
   "source": [
    "\"\"\"Exercise 2: Average of Levels in Binary Tree\n",
    "Given the root of a binary tree, return the average value of the nodes on each level in the form of an array.\n",
    "\n",
    "INPUT:\n",
    "root = TreeNode(1)\n",
    "root.left = TreeNode(2, TreeNode(4), TreeNode(5))\n",
    "root.right = TreeNode(3, TreeNode(6), TreeNode(7))\n",
    "\n",
    "     1 \n",
    "   /   \\\n",
    "  2     3\n",
    " / \\   /  \\\n",
    "4   5 6    7\n",
    "\n",
    "OUTPUT: [1.0, 2.5, 5.5]\n",
    "\"\"\"\n",
    "\n",
    "class Solution:\n",
    "    def averageOfLevels(self, root: Optional[TreeNode]) -> List[float]:\n",
    "        # add your code\n",
    "        pass"
   ]
  },
  {
   "cell_type": "code",
   "execution_count": null,
   "metadata": {},
   "outputs": [],
   "source": []
  },
  {
   "cell_type": "code",
   "execution_count": null,
   "metadata": {},
   "outputs": [],
   "source": [
    "\"\"\"Exercise 3: Find Bottom Left Tree Value\n",
    "Given the root of a binary tree, return the leftmost value in the last row of the tree.\n",
    "\n",
    "INPUT:\n",
    "root = TreeNode(1)\n",
    "root.left = TreeNode(2, TreeNode(4), TreeNode(5))\n",
    "root.right = TreeNode(3, TreeNode(6), TreeNode(7))\n",
    "\n",
    "     1 \n",
    "   /   \\\n",
    "  2     3\n",
    " / \\   /  \\\n",
    "4   5 6    7\n",
    "\n",
    "OUTPUT: 4\n",
    "\"\"\"\n",
    "\n",
    "class Solution:\n",
    "    def findBottomLeftValue(self, root: Optional[TreeNode]) -> int:\n",
    "        # add your code\n",
    "        pass       "
   ]
  },
  {
   "cell_type": "code",
   "execution_count": null,
   "metadata": {},
   "outputs": [],
   "source": []
  },
  {
   "cell_type": "code",
   "execution_count": null,
   "metadata": {},
   "outputs": [],
   "source": [
    "\"\"\"Exercise 4: Binary Tree Right Side View\n",
    "Given the root of a binary tree, imagine yourself standing on the right side of it,\n",
    "return the values of the nodes you can see ordered from top to bottom.\n",
    "\n",
    "INPUT:\n",
    "root = TreeNode(1)\n",
    "root.left = TreeNode(2, TreeNode(4), TreeNode(5))\n",
    "root.right = TreeNode(3, TreeNode(6), TreeNode(7))\n",
    "\n",
    "     1 \n",
    "   /   \\\n",
    "  2     3\n",
    " / \\   /  \\\n",
    "4   5 6    7\n",
    "\n",
    "OUTPUT: [1, 3, 7]\n",
    "\"\"\"\n",
    "\n",
    "class Solution:\n",
    "    def rightSideView(self, root: TreeNode) -> List[int]:\n",
    "        # add your code\n",
    "        pass"
   ]
  },
  {
   "cell_type": "code",
   "execution_count": null,
   "metadata": {},
   "outputs": [],
   "source": []
  },
  {
   "cell_type": "code",
   "execution_count": null,
   "metadata": {},
   "outputs": [],
   "source": [
    "\"\"\"Exercise 5: Deepest Leaves Sum\n",
    "Given the root of a binary tree, return the sum of values of its deepest leaves.\n",
    "\n",
    "INPUT:\n",
    "root = TreeNode(1)\n",
    "root.left = TreeNode(2, TreeNode(4), TreeNode(5))\n",
    "root.right = TreeNode(3, TreeNode(6), TreeNode(7))\n",
    "\n",
    "     1 \n",
    "   /   \\\n",
    "  2     3\n",
    " / \\   /  \\\n",
    "4   5 6    7\n",
    "\n",
    "OUTPUT: 22 (4 + 5 + 6 + 7)\n",
    "\"\"\"\n",
    "\n",
    "class Solution:\n",
    "    def deepestLeavesSum(self, root: Optional[TreeNode]) -> int:\n",
    "        # add your code\n",
    "        pass"
   ]
  },
  {
   "cell_type": "code",
   "execution_count": null,
   "metadata": {},
   "outputs": [],
   "source": []
  }
 ],
 "metadata": {
  "kernelspec": {
   "display_name": "Python 3",
   "language": "python",
   "name": "python3"
  },
  "language_info": {
   "codemirror_mode": {
    "name": "ipython",
    "version": 3
   },
   "file_extension": ".py",
   "mimetype": "text/x-python",
   "name": "python",
   "nbconvert_exporter": "python",
   "pygments_lexer": "ipython3",
   "version": "3.6.4"
  }
 },
 "nbformat": 4,
 "nbformat_minor": 2
}
