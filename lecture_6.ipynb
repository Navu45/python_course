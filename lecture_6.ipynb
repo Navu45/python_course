{
 "cells": [
  {
   "cell_type": "markdown",
   "metadata": {},
   "source": [
    "# Lecture 6: Errors and Exceptions\n",
    "\n",
    "Python provides two very important features to handle any unexpected error in your Python programs and to add debugging capabilities in them:\n",
    "\n",
    "- Exception Handling\n",
    "- Assertions"
   ]
  },
  {
   "cell_type": "code",
   "execution_count": null,
   "metadata": {},
   "outputs": [],
   "source": [
    "BaseException.__subclasses__()"
   ]
  },
  {
   "cell_type": "code",
   "execution_count": null,
   "metadata": {},
   "outputs": [],
   "source": [
    "len(Exception.__subclasses__())"
   ]
  },
  {
   "cell_type": "code",
   "execution_count": null,
   "metadata": {},
   "outputs": [],
   "source": [
    "Exception.__subclasses__()[:5]"
   ]
  },
  {
   "cell_type": "code",
   "execution_count": null,
   "metadata": {},
   "outputs": [],
   "source": [
    "print(0 / 0)"
   ]
  },
  {
   "cell_type": "code",
   "execution_count": null,
   "metadata": {},
   "outputs": [],
   "source": [
    "# catch all exceptions\n",
    "try:\n",
    "    print(0 / 0)\n",
    "except Exception as error:\n",
    "    print(error)"
   ]
  },
  {
   "cell_type": "markdown",
   "metadata": {},
   "source": [
    "### Exceptions versus Syntax Errors"
   ]
  },
  {
   "cell_type": "code",
   "execution_count": null,
   "metadata": {},
   "outputs": [],
   "source": [
    "\"\"\"Syntax Error\n",
    "Syntax errors occur when the parser detects an incorrect statement.\n",
    "\"\"\"\n",
    "\n",
    "print(0 / 0))"
   ]
  },
  {
   "cell_type": "code",
   "execution_count": null,
   "metadata": {},
   "outputs": [],
   "source": [
    "\"\"\"Exception Error\n",
    "This type of error occurs whenever syntactically correct Python code results in an error.\n",
    "The last line of the message indicated what type of exception error you ran into.\n",
    "\"\"\"\n",
    "\n",
    "print(0 / 0)"
   ]
  },
  {
   "cell_type": "markdown",
   "metadata": {},
   "source": [
    "### Raising an Exception\n",
    "\n",
    "The raise keyword is used to raise an exception.\n",
    "\n",
    "You can define what kind of error to raise, and the text to print to the user."
   ]
  },
  {
   "cell_type": "code",
   "execution_count": null,
   "metadata": {},
   "outputs": [],
   "source": [
    "\"\"\"\n",
    "We can use 'raise' to throw an exception if a condition occurs.\n",
    "The statement can be complemented with a custom exception.\n",
    "\n",
    "The program comes to a halt and displays our exception to screen,\n",
    "offering clues about what went wrong.\n",
    "\"\"\"\n",
    "\n",
    "x = 10\n",
    "if x > 5:\n",
    "    raise Exception(f\"x should not exceed 5. The value of x was: {x}\")"
   ]
  },
  {
   "cell_type": "markdown",
   "metadata": {},
   "source": [
    "### The AssertionError Exception\n",
    "\n",
    "Assertions are simply boolean expressions that check if the conditions return True or False. \n",
    "\n",
    "If it is True, the program does nothing and moves to the next line of code. \n",
    "However, if it's False, the program stops and throws an error."
   ]
  },
  {
   "cell_type": "code",
   "execution_count": null,
   "metadata": {},
   "outputs": [],
   "source": [
    "\"\"\"Assert Syntax: assert <condition>, <error message>\n",
    "\n",
    "Instead of waiting for a program to crash midway, you can also start by making an assertion in Python. \n",
    "\n",
    "We assert that a certain condition is met. If this condition turns out to be True, then that is excellent!\n",
    "The program can continue. If the condition turns out to be False,\n",
    "you can have the program throw an 'AssertionError' exception.\n",
    "\"\"\"\n",
    "\n",
    "import sys\n",
    "assert (\"linux\" in sys.platform), \"This code runs on Linux only.\""
   ]
  },
  {
   "cell_type": "code",
   "execution_count": null,
   "metadata": {},
   "outputs": [],
   "source": [
    "\"\"\"\n",
    "If you run this code on a Linux machine, the assertion passes.\n",
    "If you were to run this code on a Windows machine, the outcome of the assertion would be False \n",
    "and the result would be the following:\n",
    "\"\"\""
   ]
  },
  {
   "cell_type": "code",
   "execution_count": null,
   "metadata": {},
   "outputs": [],
   "source": [
    "# If you run this code on a Linux machine, the assertion passes.\n",
    "import sys\n",
    "assert (\"linux\" in sys.platform), \"This code runs on Linux only.\"\n",
    "\n",
    "\"\"\"\n",
    "If you were to run this code on a Windows machine, the outcome of the assertion would be False \n",
    "and the result would be the following:\n",
    "\n",
    "---------------------------------------------------------------------------\n",
    "AssertionError                            Traceback (most recent call last)\n",
    "<ipython-input-7-3481e9e2cdd6> in <module>()\n",
    "      8 \n",
    "      9 import sys\n",
    "---> 10 assert (\"linux\" in sys.platform), \"This code runs on Linux only.\"\n",
    "\n",
    "AssertionError: This code runs on Linux only.\n",
    "\"\"\""
   ]
  },
  {
   "cell_type": "code",
   "execution_count": null,
   "metadata": {},
   "outputs": [],
   "source": [
    "\"\"\"\n",
    "In this example, throwing an 'AssertionError' exception is the last thing that the program will do. \n",
    "\n",
    "The program will come to halt and will not continue.\n",
    "What if that is not what you want?\n",
    "\"\"\""
   ]
  },
  {
   "cell_type": "markdown",
   "metadata": {},
   "source": [
    "**Key points (Assert):**\n",
    "\n",
    "- assertions are the condition or boolean expression which are always supposed to be true in the code.\n",
    "- assert statement takes an expression and optional message.\n",
    "- assert statement is used to check types, values of argument and the output of the function.\n",
    "- assert statement is used as debugging tool as it halts the program at the point where an error occurs."
   ]
  },
  {
   "cell_type": "markdown",
   "metadata": {},
   "source": [
    "### The 'try' and 'except' Block: Handling Exceptions\n",
    "\n",
    "The try and except block in Python is used to catch and handle exceptions. \n",
    "\n",
    "Python executes code following the try statement as a “normal” part of the program. The code that follows the except statement is the program’s response to any exceptions in the preceding try clause."
   ]
  },
  {
   "cell_type": "code",
   "execution_count": null,
   "metadata": {},
   "outputs": [],
   "source": [
    "def linux_interaction():\n",
    "    assert ('linux' in sys.platform), \"Function can only run on Linux systems.\"\n",
    "    print('Doing something.')"
   ]
  },
  {
   "cell_type": "code",
   "execution_count": null,
   "metadata": {},
   "outputs": [],
   "source": [
    "try:\n",
    "    linux_interaction()\n",
    "except:\n",
    "    pass"
   ]
  },
  {
   "cell_type": "code",
   "execution_count": null,
   "metadata": {},
   "outputs": [],
   "source": [
    "\"\"\"\n",
    "The good thing here is that the program did not crash. \n",
    "\n",
    "But it would be nice to see if some type of exception occurred whenever you ran your code. \n",
    "\n",
    "To this end, you can change the pass into something that would generate an informative message, like so:\n",
    "\"\"\"\n",
    "\n",
    "try:\n",
    "    linux_interaction()\n",
    "except:\n",
    "    print('linux_interaction() function was not executed!')"
   ]
  },
  {
   "cell_type": "code",
   "execution_count": null,
   "metadata": {},
   "outputs": [],
   "source": [
    "\"\"\"\n",
    "What you did not get to see was the type of error that was thrown as a result of the function call. \n",
    "In order to see exactly what went wrong, you would need to catch the error that the function threw.\n",
    "\"\"\"\n",
    "import sys\n",
    "\n",
    "try:\n",
    "    linux_interaction()\n",
    "except AssertionError as error:\n",
    "    print(error)\n",
    "    print('The linux_interaction() function was not executed!')"
   ]
  },
  {
   "cell_type": "code",
   "execution_count": null,
   "metadata": {},
   "outputs": [],
   "source": [
    "# here’s another example\n",
    "try:\n",
    "    with open('file.log') as file:\n",
    "        read_data = file.read()\n",
    "except:\n",
    "    print('Could not open file.log')"
   ]
  },
  {
   "cell_type": "code",
   "execution_count": null,
   "metadata": {},
   "outputs": [],
   "source": [
    "try:\n",
    "    with open('file.log') as file:\n",
    "        read_data = file.read()\n",
    "except FileNotFoundError as fnf_error:\n",
    "    print(fnf_error)\n",
    "\n",
    "print(\"Hello\")"
   ]
  },
  {
   "cell_type": "code",
   "execution_count": null,
   "metadata": {},
   "outputs": [],
   "source": [
    "\"\"\"\n",
    "You can have more than one function call in your try clause and anticipate catching various exceptions.\n",
    "\n",
    "A thing to note here is that the code in the try clause will stop as soon as an exception is encountered.\n",
    "\"\"\"\n",
    "\n",
    "try:\n",
    "    linux_interaction()\n",
    "    with open('file.log') as file:\n",
    "        read_data = file.read()\n",
    "except FileNotFoundError as fnf_error:\n",
    "    print(fnf_error)\n",
    "except AssertionError as error:\n",
    "    print(error)\n",
    "    print('Linux linux_interaction() function was not executed!')\n",
    "\n",
    "print(\"Hello\")"
   ]
  },
  {
   "cell_type": "code",
   "execution_count": null,
   "metadata": {},
   "outputs": [],
   "source": [
    "linux_interaction()\n",
    "with open('file.log') as file:\n",
    "    read_data = file.read()\n",
    "    \n",
    "print(\"Hello\")"
   ]
  },
  {
   "cell_type": "markdown",
   "metadata": {},
   "source": [
    "### The else Clause\n",
    "\n",
    "In Python, using the else statement, you can instruct a program to execute a certain block of code only in the absence of exceptions."
   ]
  },
  {
   "cell_type": "code",
   "execution_count": null,
   "metadata": {},
   "outputs": [],
   "source": [
    "try:\n",
    "    linux_interaction()\n",
    "except AssertionError as error:\n",
    "    print(error)\n",
    "else:\n",
    "    print('Executing the else clause.')"
   ]
  },
  {
   "cell_type": "code",
   "execution_count": null,
   "metadata": {},
   "outputs": [],
   "source": [
    "# Because the program did not run into any exceptions, the else clause was executed.\n",
    "try:\n",
    "    print(\"Hello, World!\")\n",
    "except AssertionError as error:\n",
    "    print(error)\n",
    "else:\n",
    "    print('Executing the else clause.')"
   ]
  },
  {
   "cell_type": "code",
   "execution_count": null,
   "metadata": {},
   "outputs": [],
   "source": [
    "try:\n",
    "    print(\"Hello, World!\")\n",
    "except AssertionError as error:\n",
    "    print(error)\n",
    "else:\n",
    "    try:\n",
    "        with open('file.log') as file:\n",
    "            read_data = file.read()\n",
    "    except FileNotFoundError as fnf_error:\n",
    "        print(fnf_error)"
   ]
  },
  {
   "cell_type": "markdown",
   "metadata": {},
   "source": [
    "### Cleaning Up After Using finally\n",
    "\n",
    "Imagine that you always had to implement some sort of action to clean up after executing your code. Python enables you to do so using the finally clause."
   ]
  },
  {
   "cell_type": "code",
   "execution_count": null,
   "metadata": {},
   "outputs": [],
   "source": [
    "try:\n",
    "    linux_interaction()\n",
    "except AssertionError as error:\n",
    "    print(error)\n",
    "else:\n",
    "    try:\n",
    "        with open('file.log') as file:\n",
    "            read_data = file.read()\n",
    "    except FileNotFoundError as fnf_error:\n",
    "        print(fnf_error)\n",
    "finally:\n",
    "    print('Cleaning up, irrespective of any exceptions.')"
   ]
  },
  {
   "cell_type": "markdown",
   "metadata": {},
   "source": [
    "### Creating Own Exceptions"
   ]
  },
  {
   "cell_type": "code",
   "execution_count": null,
   "metadata": {},
   "outputs": [],
   "source": [
    "class SalaryNotInRangeError(Exception):\n",
    "    \"\"\"Exception raised for errors in the input salary.\n",
    "    \n",
    "    Attributes:\n",
    "        salary -- input salary which caused the error\n",
    "        message -- explanation of the error\n",
    "    \"\"\"\n",
    "\n",
    "    def __init__(self, salary, message=\"Salary is not in (5000, 15000) range\"):\n",
    "        self.salary = salary\n",
    "        self.message = message\n",
    "        super().__init__(self.message)\n",
    "        \n",
    "    def __str__(self):\n",
    "        return f'{self.salary} -> {self.message}'\n",
    "\n",
    "\n",
    "salary = 100_000\n",
    "if not 5_000 < salary < 15_000:\n",
    "    raise SalaryNotInRangeError(salary)"
   ]
  },
  {
   "cell_type": "markdown",
   "metadata": {},
   "source": [
    "### Summing Up\n",
    "\n",
    "After seeing the difference between syntax errors and exceptions, you learned about various ways to raise, catch, and handle exceptions in Python.\n",
    "\n",
    "- 'raise' allows you to throw an exception at any time.\n",
    "- 'assert' enables you to verify if a certain condition is met and throw an exception if it isn’t.\n",
    "- in the 'try' clause, all statements are executed until an exception is encountered.\n",
    "- 'except' is used to catch and handle the exception(s) that are encountered in the try clause.\n",
    "- 'else' lets you code sections that should run only when no exceptions are encountered in the try clause.\n",
    "- 'finally' enables you to execute sections of code that should always run, with or without any previously encountered exceptions."
   ]
  },
  {
   "cell_type": "markdown",
   "metadata": {},
   "source": [
    "### References\n",
    "<ol>\n",
    "<li> <a href=\"https://realpython.com/python-exceptions/\">Python Exceptions: An Introduction</a> </li>\n",
    "<li> <a href=\"https://docs.python.org/3.9/library/exceptions.html#exception-hierarchy\">Exception hierarchy</a> </li>\n",
    "</ol>"
   ]
  },
  {
   "cell_type": "markdown",
   "metadata": {},
   "source": [
    "### Exercises"
   ]
  },
  {
   "cell_type": "code",
   "execution_count": null,
   "metadata": {},
   "outputs": [],
   "source": [
    "\"\"\"1. Is Unique\n",
    "Implement an algorithm to determine if a string has all unique characters. \n",
    "What if you cannot use additional data structures?\n",
    "\"\"\"\n",
    "\n",
    "def is_unique(string):\n",
    "    pass"
   ]
  },
  {
   "cell_type": "code",
   "execution_count": null,
   "metadata": {},
   "outputs": [],
   "source": [
    "\"\"\"2. Check Permutation\n",
    "Given two strings, write a method to decide if one is a permutation of the other.\n",
    "\"\"\"\n",
    "\n",
    "def check_permutation(str1, str2):\n",
    "    pass"
   ]
  },
  {
   "cell_type": "code",
   "execution_count": null,
   "metadata": {},
   "outputs": [],
   "source": [
    "\"\"\"3. Palindrome Permutation\n",
    "Given a string, write a function to check if it is a permutation of a palindrome.\n",
    "A palindrome is a word or phrase that is the same forwards and backwards.\n",
    "A permutation is a rearrangement of letters.\n",
    "The palindrome does not need to be limited to just dictionary words.\n",
    "\"\"\"\n",
    "\n",
    "def is_palindrome_permutation(phrase):\n",
    "    pass"
   ]
  }
 ],
 "metadata": {
  "kernelspec": {
   "display_name": "Python 3",
   "language": "python",
   "name": "python3"
  },
  "language_info": {
   "codemirror_mode": {
    "name": "ipython",
    "version": 3
   },
   "file_extension": ".py",
   "mimetype": "text/x-python",
   "name": "python",
   "nbconvert_exporter": "python",
   "pygments_lexer": "ipython3",
   "version": "3.6.4"
  }
 },
 "nbformat": 4,
 "nbformat_minor": 2
}
