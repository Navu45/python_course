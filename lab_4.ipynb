{
 "cells": [
  {
   "cell_type": "markdown",
   "metadata": {},
   "source": [
    "1. Richest Customer Wealth (LeetCode: 1672)\n",
    "https://leetcode.com/problems/richest-customer-wealth/description/\n",
    "\n",
    "2. Number of Good Pairs (LeetCode: 1512)\n",
    "https://leetcode.com/problems/number-of-good-pairs/description/\n",
    "\n",
    "3. Check If Two String Arrays are Equivalent (LeetCode: 1662)\n",
    "https://leetcode.com/problems/check-if-two-string-arrays-are-equivalent/description/\n",
    "\n",
    "4. Pascal's Triangle (LeetCode: 118)\n",
    "https://leetcode.com/problems/pascals-triangle/\n",
    "\n",
    "5. Pascal's Triangle II (LeetCode: 119)\n",
    "https://leetcode.com/problems/pascals-triangle-ii/\n",
    "\n",
    "6. Valid Anagram (LeetCode: 242)\n",
    "https://leetcode.com/problems/valid-anagram/description/\n",
    "\n",
    "7. Find All Duplicates in an Array (LeetCode: 442)\n",
    "https://leetcode.com/problems/find-all-duplicates-in-an-array/description/\n",
    "\n",
    "8. Check if All Characters Have Equal Number of Occurrences (LeetCode: 1941)\n",
    "https://leetcode.com/problems/check-if-all-characters-have-equal-number-of-occurrences/\n",
    "\n",
    "9. Check if the Sentence Is Pangram (LeetCode: 1832)\n",
    "https://leetcode.com/problems/check-if-the-sentence-is-pangram/\n",
    "\n",
    "10. Two Sum (LeetCode: 1)\n",
    "https://leetcode.com/problems/two-sum/"
   ]
  },
  {
   "cell_type": "code",
   "execution_count": null,
   "metadata": {},
   "outputs": [],
   "source": []
  }
 ],
 "metadata": {
  "kernelspec": {
   "display_name": "bigdata1",
   "language": "python",
   "name": "python3"
  },
  "language_info": {
   "codemirror_mode": {
    "name": "ipython",
    "version": 3
   },
   "file_extension": ".py",
   "mimetype": "text/x-python",
   "name": "python",
   "nbconvert_exporter": "python",
   "pygments_lexer": "ipython3",
   "version": "3.10.4"
  },
  "orig_nbformat": 4
 },
 "nbformat": 4,
 "nbformat_minor": 2
}
