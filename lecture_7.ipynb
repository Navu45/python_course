{
 "cells": [
  {
   "cell_type": "markdown",
   "metadata": {},
   "source": [
    "# Lecture 7: Iterators and Generators\n",
    "\n",
    "> Iterators\n",
    "\n",
    "> Generators\n",
    "\n",
    "> The Itertools Module"
   ]
  },
  {
   "cell_type": "markdown",
   "metadata": {},
   "source": [
    "## Iterators\n",
    "\n",
    "Iterators are objects that can be iterated upon.\n",
    "\n",
    "An object is called iterable if we can get an iterator from it. Most built-in containers in Python like: list, tuple, string etc. are iterables.\n",
    "\n",
    "Python iterator object must implement two special methods, _ _iter_ _() and _ _next_ _(), collectively called the iterator protocol."
   ]
  },
  {
   "cell_type": "markdown",
   "metadata": {},
   "source": [
    "### Iterating Through an Iterator\n",
    "\n",
    "We use the next() function to manually iterate through all the items of an iterator."
   ]
  },
  {
   "cell_type": "code",
   "execution_count": null,
   "metadata": {},
   "outputs": [],
   "source": [
    "# define a list\n",
    "my_list = [4, 7, 0, 3]\n",
    "\n",
    "# get an iterator using iter()\n",
    "my_iter = iter(my_list)\n",
    "\n",
    "# iterate through it using next()\n",
    "print(next(my_iter))\n",
    "print(next(my_iter))\n",
    "\n",
    "print(my_iter.__next__())\n",
    "print(my_iter.__next__())"
   ]
  },
  {
   "cell_type": "code",
   "execution_count": null,
   "metadata": {},
   "outputs": [],
   "source": [
    "# When we reach the end and there is no more data to be returned, it will raise the StopIteration Exception\n",
    "\n",
    "print(next(my_iter))"
   ]
  },
  {
   "cell_type": "code",
   "execution_count": null,
   "metadata": {},
   "outputs": [],
   "source": [
    "\"\"\"\n",
    "A more elegant way of automatically iterating is by using the for loop.\n",
    "Using this, we can iterate over any object that can return an iterator (for example list, string, file etc.)\n",
    "\"\"\"\n",
    "\n",
    "for element in my_list:\n",
    "    print(element)"
   ]
  },
  {
   "cell_type": "code",
   "execution_count": null,
   "metadata": {},
   "outputs": [],
   "source": [
    "\"\"\"\n",
    "As we see in the above example, the for loop was able to iterate automatically through the list.\n",
    "\"\"\"\n",
    "\n",
    "# for element in iterable:\n",
    "#     # do something with element\n",
    "\n",
    "\n",
    "# Is actually implemented as:\n",
    "# create an iterator object from that iterable\n",
    "iterable = [4, 7, 0, 3]\n",
    "\n",
    "iter_obj = iter(iterable)\n",
    "while True:\n",
    "    try:\n",
    "        element = next(iter_obj)\n",
    "        print(element)\n",
    "    except StopIteration:\n",
    "        break\n",
    "        \n",
    "# Ironically, this for loop is actually an infinite while loop."
   ]
  },
  {
   "cell_type": "markdown",
   "metadata": {},
   "source": [
    "### Building Custom Iterators"
   ]
  },
  {
   "cell_type": "code",
   "execution_count": null,
   "metadata": {},
   "outputs": [],
   "source": [
    "\"\"\"\n",
    "The __iter__() method returns the iterator object itself.\n",
    "If required, some initialization can be performed.\n",
    "\n",
    "The __next__() method must return the next item in the sequence.\n",
    "On reaching the end, and in subsequent calls, it must raise StopIteration.\n",
    "\"\"\"\n",
    "\n",
    "class PowTwo:\n",
    "    \"\"\"Class to implement an iterator of powers of two\"\"\"\n",
    "    def __init__(self, max_value=0):\n",
    "        self.max_value = max_value\n",
    "\n",
    "    def __iter__(self):\n",
    "        self.n = 0\n",
    "        return self\n",
    "\n",
    "    def __next__(self):\n",
    "        if self.n <= self.max_value:\n",
    "            result = 2 ** self.n\n",
    "            self.n += 1\n",
    "            return result\n",
    "        else:\n",
    "            raise StopIteration\n",
    "\n",
    "\n",
    "numbers = PowTwo(3)\n",
    "\n",
    "# create an iterable from the object\n",
    "iter_obj = iter(numbers)\n",
    "\n",
    "print(next(iter_obj))\n",
    "print(next(iter_obj))\n",
    "print(next(iter_obj))\n",
    "print(next(iter_obj))\n",
    "print(next(iter_obj))"
   ]
  },
  {
   "cell_type": "code",
   "execution_count": null,
   "metadata": {},
   "outputs": [],
   "source": [
    "# We can also use a for loop to iterate over our iterator class.\n",
    "for i in PowTwo(5):\n",
    "    print(i)"
   ]
  },
  {
   "cell_type": "markdown",
   "metadata": {},
   "source": [
    "### Python Infinite Iterators"
   ]
  },
  {
   "cell_type": "code",
   "execution_count": null,
   "metadata": {},
   "outputs": [],
   "source": [
    "\"\"\"\n",
    "The built-in function iter() can be called with two arguments \n",
    "where the first argument must be a callable object (function) and second is the sentinel. \n",
    "The iterator calls this function until the returned value is equal to the sentinel.\n",
    "\"\"\"\n",
    "\n",
    "print(int())\n",
    "\n",
    "inf = iter(int, 1)\n",
    "next(inf)\n",
    "next(inf)"
   ]
  },
  {
   "cell_type": "code",
   "execution_count": null,
   "metadata": {},
   "outputs": [],
   "source": [
    "\"\"\"\n",
    "We can also build our own infinite iterators. \n",
    "The following iterator will, theoretically, return all the odd numbers.\n",
    "\"\"\"\n",
    "\n",
    "class InfIter:\n",
    "    \"\"\"Infinite iterator to return all odd numbers\"\"\"\n",
    "    def __iter__(self):\n",
    "        self.num = 1\n",
    "        return self\n",
    "\n",
    "    def __next__(self):\n",
    "        num = self.num\n",
    "        self.num += 2\n",
    "        return num\n",
    "\n",
    "a = iter(InfIter())\n",
    "print(next(a))\n",
    "print(next(a))\n",
    "print(next(a))\n",
    "print(next(a))"
   ]
  },
  {
   "cell_type": "code",
   "execution_count": null,
   "metadata": {},
   "outputs": [],
   "source": [
    "\"\"\"\n",
    "The advantage of using iterators is that they save resources.\n",
    "Like shown above, we could get all the odd numbers without storing the entire number system in memory.\n",
    "We can have infinite items (theoretically) in finite memory.\n",
    "\"\"\"\n",
    "\n",
    "print(next(a))"
   ]
  },
  {
   "cell_type": "code",
   "execution_count": null,
   "metadata": {},
   "outputs": [],
   "source": []
  },
  {
   "cell_type": "markdown",
   "metadata": {},
   "source": [
    "## Generators\n",
    "\n",
    "There is a lot of work in building an iterator in Python.\n",
    "We have to implement a class with __iter__() and __next__() method,\n",
    "keep track of internal states, and raise StopIteration when there are no values to be returned.\n",
    "\n",
    "Generators simplifies creation of iterators.\n",
    "A generator is a function that produces a sequence of results instead of a single value."
   ]
  },
  {
   "cell_type": "markdown",
   "metadata": {},
   "source": [
    "### Create Generators in Python\n",
    "\n",
    "It is fairly simple to create a generator in Python.\n",
    "It is as easy as defining a normal function, but with a 'yield' statement instead of a 'return' statement.\n",
    "\n",
    "The difference is that while a return statement terminates a function entirely, yield statement pauses the function saving all its states and later continues from there on successive calls."
   ]
  },
  {
   "cell_type": "markdown",
   "metadata": {},
   "source": [
    "### Differences between Generator function and Normal function\n",
    "\n",
    "> Generator function contains one or more yield statements.\n",
    "\n",
    "> When called, it returns an object (iterator) but does not start execution immediately.\n",
    "\n",
    "> Methods like __iter__() and __next__() are implemented automatically. So we can iterate through the items using next().\n",
    "\n",
    "> Once the function yields, the function is paused and the control is transferred to the caller.\n",
    "\n",
    "> Local variables and their states are remembered between successive calls.\n",
    "\n",
    "> Finally, when the function terminates, StopIteration is raised automatically on further calls."
   ]
  },
  {
   "cell_type": "code",
   "execution_count": null,
   "metadata": {},
   "outputs": [],
   "source": [
    "# A simple generator function with one yield\n",
    "def yrange(n):\n",
    "    i = 0\n",
    "    while i < n:\n",
    "        yield i\n",
    "        i += 1\n",
    "        \n",
    "y = yrange(3)\n",
    "print(y)\n",
    "\n",
    "print(next(y))\n",
    "print(next(y))\n",
    "print(next(y))\n",
    "print(next(y))"
   ]
  },
  {
   "cell_type": "code",
   "execution_count": null,
   "metadata": {},
   "outputs": [],
   "source": [
    "# A simple generator function with several yields\n",
    "def my_gen():\n",
    "    n = 1\n",
    "    print('This is printed first')\n",
    "    yield n\n",
    "    \n",
    "    n += 1\n",
    "    print('This is printed second')\n",
    "    yield n\n",
    "    \n",
    "    n += 1\n",
    "    print('This is printed at last')\n",
    "    yield n"
   ]
  },
  {
   "cell_type": "code",
   "execution_count": null,
   "metadata": {},
   "outputs": [],
   "source": [
    "a = my_gen()\n",
    "\n",
    "print(next(a))\n",
    "print()\n",
    "print(next(a))\n",
    "print()\n",
    "print(next(a))\n",
    "print()\n",
    "print(next(a))"
   ]
  },
  {
   "cell_type": "code",
   "execution_count": null,
   "metadata": {},
   "outputs": [],
   "source": [
    "# Using for loop\n",
    "for item in my_gen():\n",
    "    print(item)\n",
    "    print()"
   ]
  },
  {
   "cell_type": "code",
   "execution_count": null,
   "metadata": {},
   "outputs": [],
   "source": [
    "\"\"\"\n",
    "So a generator is also an iterator. You don’t have to worry about the iterator protocol.\n",
    "\n",
    "The word \"generator\" to mean the genearted object.\n",
    "The words \"generator function\" to mean the function that generates it.\n",
    "\n",
    "When a generator function is called, it returns a generator object without even beginning execution of the function.\n",
    "\n",
    "When 'next' method is called for the first time, the function starts executing until it reaches 'yield' statement.\n",
    "The yielded value is returned by the next call.\n",
    "\"\"\"\n",
    "\n",
    "def foo():\n",
    "    print(\"begin\")\n",
    "    for i in range(3):\n",
    "        print(\"before yield\", i)\n",
    "        yield i\n",
    "        print(\"after yield\", i)\n",
    "    print(\"end\")"
   ]
  },
  {
   "cell_type": "code",
   "execution_count": null,
   "metadata": {},
   "outputs": [],
   "source": [
    "f = foo()\n",
    "print(next(f))\n",
    "print()\n",
    "print(next(f))\n",
    "print()\n",
    "print(next(f))\n",
    "print()\n",
    "print(next(f))"
   ]
  },
  {
   "cell_type": "markdown",
   "metadata": {},
   "source": [
    "### Python Generators with a Loop"
   ]
  },
  {
   "cell_type": "code",
   "execution_count": null,
   "metadata": {},
   "outputs": [],
   "source": [
    "# Let's take an example of a generator that reverses a string.\n",
    "def rev_str(my_str):\n",
    "    length = len(my_str)\n",
    "    for i in range(length - 1, -1, -1):\n",
    "        yield my_str[i]\n",
    "\n",
    "\n",
    "# For loop to reverse the string\n",
    "for char in rev_str(\"hello\"):\n",
    "    print(char)"
   ]
  },
  {
   "cell_type": "markdown",
   "metadata": {},
   "source": [
    "### Generator Expressions"
   ]
  },
  {
   "cell_type": "code",
   "execution_count": null,
   "metadata": {},
   "outputs": [],
   "source": [
    "a = (x * x for x in range(10))\n",
    "print(a)"
   ]
  },
  {
   "cell_type": "code",
   "execution_count": null,
   "metadata": {},
   "outputs": [],
   "source": [
    "sum((x * x for x in range(10))) == sum(x * x for x in range(10))"
   ]
  },
  {
   "cell_type": "markdown",
   "metadata": {},
   "source": [
    "### Use of Python Generators"
   ]
  },
  {
   "cell_type": "markdown",
   "metadata": {},
   "source": [
    "#### 1. Easy to Implement"
   ]
  },
  {
   "cell_type": "code",
   "execution_count": null,
   "metadata": {},
   "outputs": [],
   "source": [
    "# An example to implement a sequence of power of 2 using an iterator class\n",
    "\n",
    "class PowTwo:\n",
    "    def __init__(self, max_value=0):\n",
    "        self.n = 0\n",
    "        self.max_value = max_value\n",
    "\n",
    "    def __iter__(self):\n",
    "        return self\n",
    "\n",
    "    def __next__(self):\n",
    "        if self.n > self.max_value:\n",
    "            raise StopIteration\n",
    "\n",
    "        result = 2 ** self.n\n",
    "        self.n += 1\n",
    "        return result"
   ]
  },
  {
   "cell_type": "code",
   "execution_count": null,
   "metadata": {},
   "outputs": [],
   "source": [
    "# Let's do the same using a generator function\n",
    "\n",
    "def PowTwoGen(max_value=0):\n",
    "    n = 0\n",
    "    while n < max_value:\n",
    "        yield 2 ** n\n",
    "        n += 1"
   ]
  },
  {
   "cell_type": "markdown",
   "metadata": {},
   "source": [
    "#### 2. Memory Efficient\n",
    "\n",
    "A normal function to return a sequence will create the entire sequence in memory before returning the result. This is an overkill, if the number of items in the sequence is very large.\n",
    "\n",
    "Generator implementation of such sequences is memory friendly and is preferred since it only produces one item at a time."
   ]
  },
  {
   "cell_type": "code",
   "execution_count": null,
   "metadata": {},
   "outputs": [],
   "source": [
    "my_list = [i for i in range(100)]\n",
    "print(f\"Size of my_list: {my_list.__sizeof__()}\")\n",
    "\n",
    "my_gen = (i for i in range(100))\n",
    "print(f\"Size of my_gen: {my_gen.__sizeof__()}\")"
   ]
  },
  {
   "cell_type": "markdown",
   "metadata": {},
   "source": [
    "#### 3. Represent Infinite Stream\n",
    "\n",
    "Generators are excellent mediums to represent an infinite stream of data. Infinite streams cannot be stored in memory, and since generators produce only one item at a time, they can represent an infinite stream of data."
   ]
  },
  {
   "cell_type": "code",
   "execution_count": null,
   "metadata": {},
   "outputs": [],
   "source": [
    "# The following generator function can generate all the even numbers (at least in theory).\n",
    "\n",
    "def all_even():\n",
    "    n = 0\n",
    "    while True:\n",
    "        yield n\n",
    "        n += 2"
   ]
  },
  {
   "cell_type": "markdown",
   "metadata": {},
   "source": [
    "#### 4. Pipelining Generators\n",
    "\n",
    "Multiple generators can be used to pipeline a series of operations. This is best illustrated using an example.\n",
    "\n",
    "Suppose we have a generator that produces the numbers in the Fibonacci series. And we have another generator for squaring numbers.\n",
    "\n",
    "If we want to find out the sum of squares of numbers in the Fibonacci series, we can do it in the following way by pipelining the output of generator functions together."
   ]
  },
  {
   "cell_type": "code",
   "execution_count": null,
   "metadata": {},
   "outputs": [],
   "source": [
    "def fibonacci_numbers(nums):\n",
    "    x, y = 0, 1\n",
    "    for _ in range(nums):\n",
    "        x, y = y, x + y\n",
    "        yield x\n",
    "\n",
    "def square(nums):\n",
    "    for num in nums:\n",
    "        yield num ** 2\n",
    "\n",
    "print(sum(square(fibonacci_numbers(10))))"
   ]
  },
  {
   "cell_type": "code",
   "execution_count": null,
   "metadata": {},
   "outputs": [],
   "source": [
    "# This pipelining is efficient and easy to read."
   ]
  },
  {
   "cell_type": "code",
   "execution_count": null,
   "metadata": {},
   "outputs": [],
   "source": []
  },
  {
   "cell_type": "markdown",
   "metadata": {},
   "source": [
    "## The Itertools Module\n",
    "\n",
    "### Function: accumulate()\n",
    "\n",
    "Accumulate function in itertools module accumulates the iterables based on the function(func) provided to it as an argument."
   ]
  },
  {
   "cell_type": "code",
   "execution_count": null,
   "metadata": {},
   "outputs": [],
   "source": [
    "import itertools\n",
    "\n",
    "# example 1\n",
    "iterables = [1, 3, 6, 2, 7, 9, 3, 1, 11]\n",
    "data = itertools.accumulate(iterables)\n",
    "print(list(data))"
   ]
  },
  {
   "cell_type": "code",
   "execution_count": null,
   "metadata": {},
   "outputs": [],
   "source": [
    "# example 2\n",
    "iterables = [1, 3, 6, 2, 7, 9, 3, 1, 11]\n",
    "data = itertools.accumulate(iterables, lambda x, y : x * y)\n",
    "print(list(data))"
   ]
  },
  {
   "cell_type": "code",
   "execution_count": null,
   "metadata": {},
   "outputs": [],
   "source": [
    "# example 3\n",
    "def collect(x, y):\n",
    "    z = y.lower()\n",
    "    return x + z + z\n",
    "\n",
    "iterables = ['A', 'B', 'C', 'D']\n",
    "data = itertools.accumulate(iterables, collect)\n",
    "print(list(data))"
   ]
  },
  {
   "cell_type": "markdown",
   "metadata": {},
   "source": [
    "### Function: combinations()"
   ]
  },
  {
   "cell_type": "code",
   "execution_count": null,
   "metadata": {},
   "outputs": [],
   "source": [
    "shapes = ['circle', 'triangle', 'square']\n",
    "\n",
    "result = itertools.combinations(shapes, 2)\n",
    "\n",
    "for each in result:\n",
    "    print(each)"
   ]
  },
  {
   "cell_type": "markdown",
   "metadata": {},
   "source": [
    "### Function: combinations_with_replacement()"
   ]
  },
  {
   "cell_type": "code",
   "execution_count": null,
   "metadata": {},
   "outputs": [],
   "source": [
    "shapes = ['circle', 'triangle', 'square']\n",
    "\n",
    "result = itertools.combinations_with_replacement(shapes, 2)\n",
    "\n",
    "for each in result:\n",
    "    print(each)"
   ]
  },
  {
   "cell_type": "markdown",
   "metadata": {},
   "source": [
    "### Function: count()\n",
    "\n",
    "Syntax: itertools.count(start=0, step=1)"
   ]
  },
  {
   "cell_type": "code",
   "execution_count": null,
   "metadata": {},
   "outputs": [],
   "source": [
    "for i in itertools.count(10, 3):\n",
    "    print(i)\n",
    "    if i > 20:\n",
    "        break"
   ]
  },
  {
   "cell_type": "markdown",
   "metadata": {},
   "source": [
    "### Function: cycle()\n",
    "\n",
    "Syntax: itertools.cycle(iterable)"
   ]
  },
  {
   "cell_type": "code",
   "execution_count": null,
   "metadata": {},
   "outputs": [],
   "source": [
    "colors = ['red', 'orange', 'yellow', 'green', 'blue', 'violet']\n",
    "\n",
    "count = 0\n",
    "for color in itertools.cycle(colors):\n",
    "    print(color)\n",
    "    count += 1\n",
    "    if count >= 10:\n",
    "        break"
   ]
  },
  {
   "cell_type": "markdown",
   "metadata": {},
   "source": [
    "### Function: chain()\n",
    "\n",
    "Syntax: itertools.chain(*iterables)"
   ]
  },
  {
   "cell_type": "code",
   "execution_count": null,
   "metadata": {},
   "outputs": [],
   "source": [
    "colors = ['red', 'orange', 'yellow', 'green', 'blue']\n",
    "shapes = ['circle', 'triangle', 'square', 'pentagon']\n",
    "\n",
    "result = itertools.chain(colors, shapes)\n",
    "print(result)\n",
    "\n",
    "for each in result:\n",
    "    print(each)"
   ]
  },
  {
   "cell_type": "markdown",
   "metadata": {},
   "source": [
    "### Function: compress()\n",
    "\n",
    "Syntax: itertools.compress(data, selectors)"
   ]
  },
  {
   "cell_type": "code",
   "execution_count": null,
   "metadata": {},
   "outputs": [],
   "source": [
    "shapes = ['circle', 'triangle', 'square', 'pentagon']\n",
    "selections = [True, False, True, False]\n",
    "\n",
    "result = itertools.compress(shapes, selections)\n",
    "print(result)\n",
    "\n",
    "for each in result:\n",
    "    print(each)"
   ]
  },
  {
   "cell_type": "markdown",
   "metadata": {},
   "source": [
    "### Function: groupby()\n",
    "\n",
    "Syntax: itertools.groupby(iterable, key=None)"
   ]
  },
  {
   "cell_type": "code",
   "execution_count": null,
   "metadata": {},
   "outputs": [],
   "source": [
    "robots = [\n",
    "    {'name': 'blaster',\n",
    "    'faction': 'autobot'},\n",
    "    \n",
    "    {'name': 'galvatron',\n",
    "    'faction': 'decepticon'},\n",
    "    \n",
    "    {'name': 'jazz',\n",
    "    'faction': 'autobot'},\n",
    "    \n",
    "    {'name': 'metroplex',\n",
    "    'faction': 'autobot'},\n",
    "    \n",
    "    {'name': 'megatron',\n",
    "    'faction': 'decepticon'},\n",
    "    \n",
    "    {'name': 'starcream',\n",
    "    'faction': 'decepticon'}\n",
    "]\n",
    "\n",
    "for key, group in itertools.groupby(robots, key=lambda x: x['faction']):\n",
    "    print(key)\n",
    "    print(list(group))\n",
    "    print()"
   ]
  },
  {
   "cell_type": "markdown",
   "metadata": {},
   "source": [
    "### Function: permutations()\n",
    "\n",
    "Syntax: itertools.permutations(iterable, r=None)"
   ]
  },
  {
   "cell_type": "code",
   "execution_count": null,
   "metadata": {},
   "outputs": [],
   "source": [
    "alpha_data = ['a', 'b', 'c']\n",
    "\n",
    "result = itertools.permutations(alpha_data)\n",
    "print(result)\n",
    "\n",
    "for each in result:\n",
    "    print(each)"
   ]
  },
  {
   "cell_type": "markdown",
   "metadata": {},
   "source": [
    "### Function: product()\n",
    "\n",
    "This function creates the cartesian products from a series of iterables."
   ]
  },
  {
   "cell_type": "code",
   "execution_count": null,
   "metadata": {},
   "outputs": [],
   "source": [
    "num_data = [1, 2, 3]\n",
    "alpha_data = ['a', 'b', 'c']\n",
    "\n",
    "result = itertools.product(num_data, alpha_data)\n",
    "print(result)\n",
    "\n",
    "for each in result:\n",
    "    print(each)"
   ]
  },
  {
   "cell_type": "markdown",
   "metadata": {},
   "source": [
    "### Function: repeat()\n",
    "\n",
    "Syntax: itertools.repeat(object[, times])\n",
    "\n",
    "This function will repeat an object over and over again. Unless, there is a times argument."
   ]
  },
  {
   "cell_type": "code",
   "execution_count": null,
   "metadata": {},
   "outputs": [],
   "source": [
    "# If we use the times argument, we can limit the number of times it will repeat.\n",
    "for i in itertools.repeat(\"spam\", 3):\n",
    "    print(i)"
   ]
  },
  {
   "cell_type": "code",
   "execution_count": null,
   "metadata": {},
   "outputs": [],
   "source": []
  },
  {
   "cell_type": "markdown",
   "metadata": {},
   "source": [
    "### References\n",
    "<ol>\n",
    "<li> <a href=\"https://www.programiz.com/python-programming/iterator\">Python Iterators</a> </li>\n",
    "<li> <a href=\"https://www.programiz.com/python-programming/generator\">Python Generators</a> </li>\n",
    "<li> <a href=\"https://medium.com/@jasonrigden/a-guide-to-python-itertools-82e5a306cdf8\">A Guide to Python Itertools</a> </li>\n",
    "</ol>"
   ]
  }
 ],
 "metadata": {
  "kernelspec": {
   "display_name": "Python 3",
   "language": "python",
   "name": "python3"
  },
  "language_info": {
   "codemirror_mode": {
    "name": "ipython",
    "version": 3
   },
   "file_extension": ".py",
   "mimetype": "text/x-python",
   "name": "python",
   "nbconvert_exporter": "python",
   "pygments_lexer": "ipython3",
   "version": "3.6.4"
  }
 },
 "nbformat": 4,
 "nbformat_minor": 2
}
